{
 "cells": [
  {
   "cell_type": "code",
   "execution_count": 0,
   "metadata": {
    "application/vnd.databricks.v1+cell": {
     "cellMetadata": {
      "byteLimit": 2048000,
      "rowLimit": 10000
     },
     "inputWidgets": {},
     "nuid": "c9b8af0e-9236-4217-9111-3e3bc116e685",
     "showTitle": false,
     "title": ""
    }
   },
   "outputs": [],
   "source": [
    "class Config():    \n",
    "    def __init__(self):      \n",
    "        self.base_dir_data = \"/project_stuff/data_zone/\"\n",
    "        self.kafka_server = \"pkc-4r087.us-west2.gcp.confluent.cloud:9092\"\n",
    "        self.kafka_api_key = \"PWEUCUXA4575GXRN\"\n",
    "        self.kafka_api_secret = \"SYRj4UPfB0qXJcYL32B+9FZYgT+SPsSlSyLA3Ww26v7NRxxLxBSdgP6A5Nqq842j\"\n",
    "        self.base_dir_checkpoint = \"/project_stuff/checkpoint/\"\n",
    "        self.db_name = \"sbit_db\"\n",
    "        self.maxFilesPerTrigger = 1"
   ]
  },
  {
   "cell_type": "code",
   "execution_count": 0,
   "metadata": {
    "application/vnd.databricks.v1+cell": {
     "cellMetadata": {},
     "inputWidgets": {},
     "nuid": "412fe614-87fe-4e56-a0bf-6a0a0abdb42c",
     "showTitle": false,
     "title": ""
    }
   },
   "outputs": [],
   "source": []
  }
 ],
 "metadata": {
  "application/vnd.databricks.v1+notebook": {
   "dashboards": [],
   "language": "python",
   "notebookMetadata": {
    "pythonIndentUnit": 4
   },
   "notebookName": "1-config",
   "widgets": {}
  }
 },
 "nbformat": 4,
 "nbformat_minor": 0
}
