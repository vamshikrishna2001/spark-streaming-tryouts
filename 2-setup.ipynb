{
 "cells": [
  {
   "cell_type": "code",
   "execution_count": 0,
   "metadata": {
    "application/vnd.databricks.v1+cell": {
     "cellMetadata": {
      "byteLimit": 2048000,
      "rowLimit": 10000
     },
     "inputWidgets": {},
     "nuid": "d2f63e89-12f4-43b6-9cc3-9379a35d7ff0",
     "showTitle": false,
     "title": ""
    }
   },
   "outputs": [],
   "source": [
    "%run ./1-config"
   ]
  },
  {
   "cell_type": "code",
   "execution_count": 0,
   "metadata": {
    "application/vnd.databricks.v1+cell": {
     "cellMetadata": {
      "byteLimit": 2048000,
      "rowLimit": 10000
     },
     "inputWidgets": {},
     "nuid": "265ce933-2953-4d09-95cc-b3fc7352175a",
     "showTitle": false,
     "title": ""
    }
   },
   "outputs": [],
   "source": [
    "class SetupHelper():   \n",
    "    def __init__(self):\n",
    "        Conf = Config()\n",
    "        self.landing_zone = Conf.base_dir_data + \"/raw\"\n",
    "        self.checkpoint_base = Conf.base_dir_checkpoint + \"/checkpoints\"        \n",
    "        self.db_name = Conf.db_name\n",
    "        self.initialized = False\n",
    "        \n",
    "    def create_db(self):\n",
    "        spark.catalog.clearCache()\n",
    "        print(f\"Creating the database {self.db_name}...\", end='')\n",
    "        spark.sql(f\"CREATE DATABASE IF NOT EXISTS {self.db_name}\")\n",
    "        spark.sql(f\"USE {self.db_name}\")\n",
    "        self.initialized = True\n",
    "        print(\"Done\")\n",
    "\n",
    "\n",
    "    def create_kafka_multiplex_bz(self,table_name):\n",
    "        if(self.initialized):\n",
    "            print(f\"Creating {table_name} table...\", end='')\n",
    "            spark.sql(f\"\"\"CREATE TABLE IF NOT EXISTS {self.db_name}.{table_name}(\n",
    "                  key string, \n",
    "                  value string, \n",
    "                  topic string, \n",
    "                  partition bigint, \n",
    "                  offset bigint, \n",
    "                  timestamp bigint,                  \n",
    "                  timestamp_type integer)\n",
    "                  \"\"\") \n",
    "            print(\"Done\")\n",
    "        else:\n",
    "            raise ReferenceError(\"Application database is not defined. Cannot create table in default database.\")    \n",
    "\n",
    "\n",
    "    def setup(self):\n",
    "        if not self.initialized:\n",
    "            self.create_db()\n",
    "        self.create_kafka_multiplex_bz(\"registered_users_tables\")  \n",
    "        self.create_kafka_multiplex_bz(\"gym_logins_table\")  \n",
    "        self.create_kafka_multiplex_bz(\"bpm_stream_table\") \n",
    "        self.create_kafka_multiplex_bz(\"workout_session_table\")  \n",
    "        self.create_kafka_multiplex_bz(\"user_info_table\")   "
   ]
  },
  {
   "cell_type": "code",
   "execution_count": 0,
   "metadata": {
    "application/vnd.databricks.v1+cell": {
     "cellMetadata": {
      "byteLimit": 2048000,
      "rowLimit": 10000
     },
     "inputWidgets": {},
     "nuid": "3164ab2a-9389-42a0-8f42-c70cc26140eb",
     "showTitle": false,
     "title": ""
    }
   },
   "outputs": [],
   "source": [
    "sh = SetupHelper()"
   ]
  },
  {
   "cell_type": "code",
   "execution_count": 0,
   "metadata": {
    "application/vnd.databricks.v1+cell": {
     "cellMetadata": {
      "byteLimit": 2048000,
      "rowLimit": 10000
     },
     "inputWidgets": {},
     "nuid": "6a266e50-a948-407a-b6ec-daf669645296",
     "showTitle": false,
     "title": ""
    }
   },
   "outputs": [
    {
     "output_type": "stream",
     "name": "stdout",
     "output_type": "stream",
     "text": [
      "Creating the database sbit_db...Done\nCreating kafka_multiplex_bz table...Done\nCreating kafka_multiplex_bz table...Done\nCreating kafka_multiplex_bz table...Done\nCreating kafka_multiplex_bz table...Done\nCreating kafka_multiplex_bz table...Done\n"
     ]
    }
   ],
   "source": [
    "sh.setup()"
   ]
  },
  {
   "cell_type": "code",
   "execution_count": 0,
   "metadata": {
    "application/vnd.databricks.v1+cell": {
     "cellMetadata": {
      "byteLimit": 2048000,
      "rowLimit": 10000
     },
     "inputWidgets": {},
     "nuid": "8acf00c6-a8ab-495d-98ae-b2014a0a633f",
     "showTitle": false,
     "title": ""
    }
   },
   "outputs": [
    {
     "output_type": "stream",
     "name": "stdout",
     "output_type": "stream",
     "text": [
      "bpm_stream_table\ngym_logins_table\nregistered_users_tables\nuser_info_table\nworkout_session_table\n"
     ]
    }
   ],
   "source": [
    "from pyspark.sql import SparkSession\n",
    "\n",
    "# create SparkSession\n",
    "spark = SparkSession.builder.appName(\"TableList\").getOrCreate()\n",
    "\n",
    "# list of table names in a database\n",
    "databaseName = \"sbit_db\"\n",
    "tableNames = spark.catalog.listTables(databaseName)\n",
    "\n",
    "# print table names\n",
    "for tableName in tableNames:\n",
    "    print(tableName.name)\n",
    "\n",
    "# stop SparkSession\n"
   ]
  },
  {
   "cell_type": "code",
   "execution_count": 0,
   "metadata": {
    "application/vnd.databricks.v1+cell": {
     "cellMetadata": {},
     "inputWidgets": {},
     "nuid": "a015b0ed-c21f-423a-a641-5605e0d9c23a",
     "showTitle": false,
     "title": ""
    }
   },
   "outputs": [],
   "source": []
  }
 ],
 "metadata": {
  "application/vnd.databricks.v1+notebook": {
   "dashboards": [],
   "language": "python",
   "notebookMetadata": {
    "pythonIndentUnit": 4
   },
   "notebookName": "2-setup",
   "widgets": {}
  }
 },
 "nbformat": 4,
 "nbformat_minor": 0
}
