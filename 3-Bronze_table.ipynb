{
 "cells": [
  {
   "cell_type": "code",
   "execution_count": 0,
   "metadata": {
    "application/vnd.databricks.v1+cell": {
     "cellMetadata": {
      "byteLimit": 2048000,
      "rowLimit": 10000
     },
     "inputWidgets": {},
     "nuid": "ac7f7ab8-77da-4269-b80a-4a0951718016",
     "showTitle": false,
     "title": ""
    }
   },
   "outputs": [],
   "source": [
    "%run ./1-config"
   ]
  },
  {
   "cell_type": "code",
   "execution_count": 0,
   "metadata": {
    "application/vnd.databricks.v1+cell": {
     "cellMetadata": {
      "byteLimit": 2048000,
      "rowLimit": 10000
     },
     "inputWidgets": {},
     "nuid": "b4544fa2-5497-4ed7-9eb8-93bd6a8c5f86",
     "showTitle": false,
     "title": ""
    }
   },
   "outputs": [],
   "source": [
    "class Bronze():\n",
    "    def __init__(self):        \n",
    "        self.Conf = Config()\n",
    "        self.landing_zone = self.Conf.base_dir_data + \"/raw\" \n",
    "        self.checkpoint_base = self.Conf.base_dir_checkpoint + \"/checkpoints\"\n",
    "        self.db_name = self.Conf.db_name\n",
    "\n",
    "    def list_tables(self):\n",
    "        spark.sql(f\"USE {self.db_name}\")\n",
    "        tables = spark.sql(\"show tables\").select(\"tableName\").rdd.flatMap(lambda x: x).collect()\n",
    "        return tables\n",
    "    \n",
    "    def list_kafka_topics(self):\n",
    "        return [\"bpm_stream_topic\",\"gym_logins_topic\",\"registered_user_topic\",\"user_info_topic\",\"work_out_session_topic\"]\n",
    "\n",
    "    def consume_user_registration(self,table_name,topic,once=True, processing_time=\"5 seconds\"):\n",
    "\n",
    "            df_stream = (spark.readStream\n",
    "                            .format(\"kafka\")\n",
    "                            .option(\"kafka.bootstrap.servers\", self.Conf.kafka_server) \n",
    "                            .option(\"kafka.security.protocol\", \"SASL_SSL\") \n",
    "                            .option(\"kafka.sasl.jaas.config\", \"kafkashaded.org.apache.kafka.common.security.plain.PlainLoginModule required username='{}'  \\\n",
    "                            password='{}';\".format(self.Conf.kafka_api_key, self.Conf.kafka_api_secret)) \n",
    "                            .option(\"kafka.ssl.endpoint.identification.algorithm\", \"https\") \n",
    "                            .option(\"kafka.sasl.mechanism\", \"PLAIN\") \n",
    "                            .option(\"subscribe\",topic) \n",
    "                            .load()\n",
    "                        )\n",
    "            print(df_stream.printSchema())     \n",
    "            # Use append mode because bronze layer is expected to insert only from source\n",
    "            stream_writer = df_stream.writeStream \\\n",
    "                                    .format(\"delta\") \\\n",
    "                                    .option(\"checkpointLocation\", self.checkpoint_base + f\"/{table_name}_bz\") \\\n",
    "                                    .outputMode(\"append\") \\\n",
    "                                    .queryName(f\"{table_name}_bz_ingestion_stream\")\n",
    "                        \n",
    "            if once == True:\n",
    "                return stream_writer.trigger(availableNow=True).toTable(f\"{self.db_name}.{table_name}\")\n",
    "            else:\n",
    "                return stream_writer.trigger(processingTime=processing_time).toTable(f\"{self.db_name}.{table_name}\")\n",
    "            \n",
    "\n",
    "    def consume(self):\n",
    "        tb = self.list_tables()\n",
    "        print(tb)\n",
    "        tp = self.list_kafka_topics()\n",
    "        print(tp)\n",
    "        for i in range(len(tb)):\n",
    "            self.consume_user_registration(tb[i],tp[i],once=True, processing_time=\"5 seconds\")\n"
   ]
  },
  {
   "cell_type": "code",
   "execution_count": 0,
   "metadata": {
    "application/vnd.databricks.v1+cell": {
     "cellMetadata": {
      "byteLimit": 2048000,
      "rowLimit": 10000
     },
     "inputWidgets": {},
     "nuid": "98a7cb7e-b208-405c-8c60-6b286b2ca3f0",
     "showTitle": false,
     "title": ""
    }
   },
   "outputs": [
    {
     "output_type": "stream",
     "name": "stdout",
     "output_type": "stream",
     "text": [
      "['bpm_stream_table', 'gym_logins_table', 'registered_users_tables', 'user_info_table', 'workout_session_table']\n['bpm_stream_topic', 'gym_logins_topic', 'registered_user_topic', 'user_info_topic', 'work_out_session_topic']\nroot\n |-- key: binary (nullable = true)\n |-- value: binary (nullable = true)\n |-- topic: string (nullable = true)\n |-- partition: integer (nullable = true)\n |-- offset: long (nullable = true)\n |-- timestamp: timestamp (nullable = true)\n |-- timestampType: integer (nullable = true)\n\nNone\nroot\n |-- key: binary (nullable = true)\n |-- value: binary (nullable = true)\n |-- topic: string (nullable = true)\n |-- partition: integer (nullable = true)\n |-- offset: long (nullable = true)\n |-- timestamp: timestamp (nullable = true)\n |-- timestampType: integer (nullable = true)\n\nNone\nroot\n |-- key: binary (nullable = true)\n |-- value: binary (nullable = true)\n |-- topic: string (nullable = true)\n |-- partition: integer (nullable = true)\n |-- offset: long (nullable = true)\n |-- timestamp: timestamp (nullable = true)\n |-- timestampType: integer (nullable = true)\n\nNone\nroot\n |-- key: binary (nullable = true)\n |-- value: binary (nullable = true)\n |-- topic: string (nullable = true)\n |-- partition: integer (nullable = true)\n |-- offset: long (nullable = true)\n |-- timestamp: timestamp (nullable = true)\n |-- timestampType: integer (nullable = true)\n\nNone\nroot\n |-- key: binary (nullable = true)\n |-- value: binary (nullable = true)\n |-- topic: string (nullable = true)\n |-- partition: integer (nullable = true)\n |-- offset: long (nullable = true)\n |-- timestamp: timestamp (nullable = true)\n |-- timestampType: integer (nullable = true)\n\nNone\n"
     ]
    }
   ],
   "source": [
    "bz = Bronze()\n",
    "bz.consume()"
   ]
  },
  {
   "cell_type": "code",
   "execution_count": 0,
   "metadata": {
    "application/vnd.databricks.v1+cell": {
     "cellMetadata": {
      "byteLimit": 2048000,
      "rowLimit": 10000
     },
     "inputWidgets": {},
     "nuid": "397aadfd-01ef-4f5a-aaa9-8ec6c3b8348b",
     "showTitle": false,
     "title": ""
    }
   },
   "outputs": [],
   "source": [
    "df = spark.sql(\"select * from sbit_db.workout_session_table\")"
   ]
  },
  {
   "cell_type": "code",
   "execution_count": 0,
   "metadata": {
    "application/vnd.databricks.v1+cell": {
     "cellMetadata": {
      "byteLimit": 2048000,
      "rowLimit": 10000
     },
     "inputWidgets": {},
     "nuid": "d1921c24-c1b1-48ca-bb63-f77d80a67d23",
     "showTitle": false,
     "title": ""
    }
   },
   "outputs": [
    {
     "output_type": "stream",
     "name": "stdout",
     "output_type": "stream",
     "text": [
      "root\n\n"
     ]
    }
   ],
   "source": [
    "df.printSchema()"
   ]
  },
  {
   "cell_type": "code",
   "execution_count": 0,
   "metadata": {
    "application/vnd.databricks.v1+cell": {
     "cellMetadata": {},
     "inputWidgets": {},
     "nuid": "66da81af-ab47-43eb-905a-6d1f11ab3288",
     "showTitle": false,
     "title": ""
    }
   },
   "outputs": [],
   "source": []
  }
 ],
 "metadata": {
  "application/vnd.databricks.v1+notebook": {
   "dashboards": [],
   "language": "python",
   "notebookMetadata": {
    "pythonIndentUnit": 4
   },
   "notebookName": "3-Bronze_table",
   "widgets": {}
  }
 },
 "nbformat": 4,
 "nbformat_minor": 0
}
