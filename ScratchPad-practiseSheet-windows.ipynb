{
 "cells": [
  {
   "cell_type": "code",
   "execution_count": 0,
   "metadata": {
    "application/vnd.databricks.v1+cell": {
     "cellMetadata": {
      "byteLimit": 2048000,
      "rowLimit": 10000
     },
     "inputWidgets": {},
     "nuid": "7bab8597-dc80-40c8-87c0-85b905c6df0c",
     "showTitle": false,
     "title": ""
    }
   },
   "outputs": [],
   "source": [
    "from pyspark.sql import *\n",
    "from pyspark import SparkConf"
   ]
  },
  {
   "cell_type": "code",
   "execution_count": 0,
   "metadata": {
    "application/vnd.databricks.v1+cell": {
     "cellMetadata": {
      "byteLimit": 2048000,
      "rowLimit": 10000
     },
     "inputWidgets": {},
     "nuid": "50075b27-c01c-4fe4-8600-33d175cb6870",
     "showTitle": false,
     "title": ""
    }
   },
   "outputs": [
    {
     "output_type": "stream",
     "name": "stdout",
     "output_type": "stream",
     "text": [
      "Out[49]: [FileInfo(path='dbfs:/FileStore/tables/1_registered_users_1.csv', name='1_registered_users_1.csv', size=266, modificationTime=1706195933000),\n FileInfo(path='dbfs:/FileStore/tables/1_registered_users_2.csv', name='1_registered_users_2.csv', size=263, modificationTime=1706195933000),\n FileInfo(path='dbfs:/FileStore/tables/2_user_info_1.json', name='2_user_info_1.json', size=2913, modificationTime=1706195933000),\n FileInfo(path='dbfs:/FileStore/tables/2_user_info_2.json', name='2_user_info_2.json', size=2482, modificationTime=1706195933000),\n FileInfo(path='dbfs:/FileStore/tables/3_bpm_1.json', name='3_bpm_1.json', size=39990667, modificationTime=1706195982000),\n FileInfo(path='dbfs:/FileStore/tables/3_bpm_2.json', name='3_bpm_2.json', size=39994963, modificationTime=1706195982000),\n FileInfo(path='dbfs:/FileStore/tables/4_workout_1.json', name='4_workout_1.json', size=3319, modificationTime=1706195983000),\n FileInfo(path='dbfs:/FileStore/tables/4_workout_2.json', name='4_workout_2.json', size=3319, modificationTime=1706195983000),\n FileInfo(path='dbfs:/FileStore/tables/5_gym_logins_1.csv', name='5_gym_logins_1.csv', size=364, modificationTime=1706195983000),\n FileInfo(path='dbfs:/FileStore/tables/5_gym_logins_2.csv', name='5_gym_logins_2.csv', size=364, modificationTime=1706195983000),\n FileInfo(path='dbfs:/FileStore/tables/6_date_lookup.json', name='6_date_lookup.json', size=48660, modificationTime=1706195984000),\n FileInfo(path='dbfs:/FileStore/tables/7_gym_summary_1.parquet', name='7_gym_summary_1.parquet', size=2619, modificationTime=1706195984000),\n FileInfo(path='dbfs:/FileStore/tables/7_gym_summary_2.parquet', name='7_gym_summary_2.parquet', size=2806, modificationTime=1706195984000),\n FileInfo(path='dbfs:/FileStore/tables/8_workout_bpm_summary_2.parquet', name='8_workout_bpm_summary_2.parquet', size=3232, modificationTime=1706195984000),\n FileInfo(path='dbfs:/FileStore/tables/airlines.csv', name='airlines.csv', size=322026, modificationTime=1706183478000),\n FileInfo(path='dbfs:/FileStore/tables/archive.zip', name='archive.zip', size=123232, modificationTime=1706183318000),\n FileInfo(path='dbfs:/FileStore/tables/scanning_time_size.json', name='scanning_time_size.json', size=3089, modificationTime=1706182772000)]"
     ]
    }
   ],
   "source": [
    "dbutils.fs.ls('/FileStore/tables/')"
   ]
  },
  {
   "cell_type": "code",
   "execution_count": 0,
   "metadata": {
    "application/vnd.databricks.v1+cell": {
     "cellMetadata": {
      "byteLimit": 2048000,
      "rowLimit": 10000
     },
     "inputWidgets": {},
     "nuid": "3641f92a-b1d6-495d-ad5a-a7e7e26ab910",
     "showTitle": false,
     "title": ""
    }
   },
   "outputs": [],
   "source": [
    "conf = SparkConf()\n",
    "conf.set(\"spark.app.name\",\"targaryen\")\n",
    "conf.set(\"spark.master\",\"local[*]\")\n",
    "    \n",
    "spark = SparkSession.builder.config(conf=conf).getOrCreate()  \n",
    "    \n",
    "# schema = \"user_id long , device_id long , mac_address string , registration_timestamp long\"\n",
    "df = (spark.read\n",
    "        .format(\"csv\") \n",
    "        .option(\"header\",\"true\") \n",
    "        .option(\"inferschema\",\"true\") \n",
    "        .load(\"/FileStore/tables/5_gym_logins_*\")\n",
    ")"
   ]
  },
  {
   "cell_type": "code",
   "execution_count": 0,
   "metadata": {
    "application/vnd.databricks.v1+cell": {
     "cellMetadata": {
      "byteLimit": 2048000,
      "rowLimit": 10000
     },
     "inputWidgets": {},
     "nuid": "c338e30e-ddf9-40a2-893a-4c8df5eb5bd9",
     "showTitle": false,
     "title": ""
    }
   },
   "outputs": [
    {
     "output_type": "stream",
     "name": "stdout",
     "output_type": "stream",
     "text": [
      "Out[51]: ['mac_address', 'gym', 'login', 'logout']"
     ]
    }
   ],
   "source": [
    "df.columns"
   ]
  },
  {
   "cell_type": "code",
   "execution_count": 0,
   "metadata": {
    "application/vnd.databricks.v1+cell": {
     "cellMetadata": {
      "byteLimit": 2048000,
      "rowLimit": 10000
     },
     "inputWidgets": {},
     "nuid": "dc104413-9bf6-4184-ba6e-576225746df2",
     "showTitle": false,
     "title": ""
    }
   },
   "outputs": [
    {
     "output_type": "display_data",
     "data": {
      "text/html": [
       "<style scoped>\n",
       "  .table-result-container {\n",
       "    max-height: 300px;\n",
       "    overflow: auto;\n",
       "  }\n",
       "  table, th, td {\n",
       "    border: 1px solid black;\n",
       "    border-collapse: collapse;\n",
       "  }\n",
       "  th, td {\n",
       "    padding: 5px;\n",
       "  }\n",
       "  th {\n",
       "    text-align: left;\n",
       "  }\n",
       "</style><div class='table-result-container'><table class='table-result'><thead style='background-color: white'><tr><th>mac_address</th><th>gym</th><th>login</th><th>logout</th></tr></thead><tbody><tr><td>4c:c5:9f:cb:13:bd</td><td>5</td><td>1678521600</td><td>1678526100</td></tr><tr><td>ae:ec:f6:48:ca:f7</td><td>1</td><td>1678522500</td><td>1678525200</td></tr><tr><td>36:1f:d9:d3:e8:0d</td><td>3</td><td>1678522500</td><td>1678527000</td></tr><tr><td>14:cd:d6:db:70:f6</td><td>5</td><td>1678523400</td><td>1678527600</td></tr><tr><td>57:24:ac:8c:75:ea</td><td>1</td><td>1678524000</td><td>1678528500</td></tr><tr><td>36:1f:d9:d3:e8:0d</td><td>3</td><td>1678561200</td><td>1678564800</td></tr><tr><td>14:cd:d6:db:70:f6</td><td>5</td><td>1678562400</td><td>1678565700</td></tr><tr><td>57:24:ac:8c:75:ea</td><td>5</td><td>1678562880</td><td>1678567200</td></tr><tr><td>1d:69:69:75:d0:aa</td><td>1</td><td>1678608000</td><td>1678611000</td></tr><tr><td>df:f9:dc:5e:e2:a8</td><td>1</td><td>1678608000</td><td>1678611600</td></tr><tr><td>dd:96:be:e9:1e:f4</td><td>3</td><td>1678608720</td><td>1678611600</td></tr><tr><td>dd:45:d2:37:a8:0e</td><td>5</td><td>1678609020</td><td>1678612320</td></tr><tr><td>de:c0:cd:a7:71:f4</td><td>5</td><td>1678609800</td><td>1678614000</td></tr><tr><td>1d:69:69:75:d0:aa</td><td>3</td><td>1678644000</td><td>1678646400</td></tr><tr><td>df:f9:dc:5e:e2:a8</td><td>3</td><td>1678644720</td><td>1678647300</td></tr><tr><td>dd:96:be:e9:1e:f4</td><td>1</td><td>1678645440</td><td>1678649700</td></tr></tbody></table></div>"
      ]
     },
     "metadata": {
      "application/vnd.databricks.v1+output": {
       "addedWidgets": {},
       "aggData": [],
       "aggError": "",
       "aggOverflow": false,
       "aggSchema": [],
       "aggSeriesLimitReached": false,
       "aggType": "",
       "arguments": {},
       "columnCustomDisplayInfos": {},
       "data": [
        [
         "4c:c5:9f:cb:13:bd",
         5,
         1678521600,
         1678526100
        ],
        [
         "ae:ec:f6:48:ca:f7",
         1,
         1678522500,
         1678525200
        ],
        [
         "36:1f:d9:d3:e8:0d",
         3,
         1678522500,
         1678527000
        ],
        [
         "14:cd:d6:db:70:f6",
         5,
         1678523400,
         1678527600
        ],
        [
         "57:24:ac:8c:75:ea",
         1,
         1678524000,
         1678528500
        ],
        [
         "36:1f:d9:d3:e8:0d",
         3,
         1678561200,
         1678564800
        ],
        [
         "14:cd:d6:db:70:f6",
         5,
         1678562400,
         1678565700
        ],
        [
         "57:24:ac:8c:75:ea",
         5,
         1678562880,
         1678567200
        ],
        [
         "1d:69:69:75:d0:aa",
         1,
         1678608000,
         1678611000
        ],
        [
         "df:f9:dc:5e:e2:a8",
         1,
         1678608000,
         1678611600
        ],
        [
         "dd:96:be:e9:1e:f4",
         3,
         1678608720,
         1678611600
        ],
        [
         "dd:45:d2:37:a8:0e",
         5,
         1678609020,
         1678612320
        ],
        [
         "de:c0:cd:a7:71:f4",
         5,
         1678609800,
         1678614000
        ],
        [
         "1d:69:69:75:d0:aa",
         3,
         1678644000,
         1678646400
        ],
        [
         "df:f9:dc:5e:e2:a8",
         3,
         1678644720,
         1678647300
        ],
        [
         "dd:96:be:e9:1e:f4",
         1,
         1678645440,
         1678649700
        ]
       ],
       "datasetInfos": [],
       "dbfsResultPath": null,
       "isJsonSchema": true,
       "metadata": {},
       "overflow": false,
       "plotOptions": {
        "customPlotOptions": {},
        "displayType": "table",
        "pivotAggregation": null,
        "pivotColumns": null,
        "xColumns": null,
        "yColumns": null
       },
       "removedWidgets": [],
       "schema": [
        {
         "metadata": "{}",
         "name": "mac_address",
         "type": "\"string\""
        },
        {
         "metadata": "{}",
         "name": "gym",
         "type": "\"integer\""
        },
        {
         "metadata": "{}",
         "name": "login",
         "type": "\"integer\""
        },
        {
         "metadata": "{}",
         "name": "logout",
         "type": "\"integer\""
        }
       ],
       "type": "table"
      }
     },
     "output_type": "display_data"
    }
   ],
   "source": [
    "display(df)"
   ]
  },
  {
   "cell_type": "code",
   "execution_count": 0,
   "metadata": {
    "application/vnd.databricks.v1+cell": {
     "cellMetadata": {
      "byteLimit": 2048000,
      "rowLimit": 10000
     },
     "inputWidgets": {},
     "nuid": "ff3a3348-51ce-4fd1-b21b-b74fc57e2312",
     "showTitle": false,
     "title": ""
    }
   },
   "outputs": [],
   "source": [
    "df1 = df.select(df.mac_address.cast('string'),df.gym.cast('int'),df.login.cast('timestamp'),df.logout.cast('timestamp'))"
   ]
  },
  {
   "cell_type": "code",
   "execution_count": 0,
   "metadata": {
    "application/vnd.databricks.v1+cell": {
     "cellMetadata": {
      "byteLimit": 2048000,
      "rowLimit": 10000
     },
     "inputWidgets": {},
     "nuid": "659228d2-8cb9-4e17-9a79-b95fa6139c09",
     "showTitle": false,
     "title": ""
    }
   },
   "outputs": [
    {
     "output_type": "display_data",
     "data": {
      "text/html": [
       "<style scoped>\n",
       "  .table-result-container {\n",
       "    max-height: 300px;\n",
       "    overflow: auto;\n",
       "  }\n",
       "  table, th, td {\n",
       "    border: 1px solid black;\n",
       "    border-collapse: collapse;\n",
       "  }\n",
       "  th, td {\n",
       "    padding: 5px;\n",
       "  }\n",
       "  th {\n",
       "    text-align: left;\n",
       "  }\n",
       "</style><div class='table-result-container'><table class='table-result'><thead style='background-color: white'><tr><th>window</th><th>count(1)</th><th>sum(gym)</th></tr></thead><tbody><tr><td>List(2023-03-11T08:00:00.000+0000, 2023-03-11T08:30:00.000+0000)</td><td>3</td><td>9</td></tr><tr><td>List(2023-03-11T19:00:00.000+0000, 2023-03-11T19:30:00.000+0000)</td><td>3</td><td>13</td></tr><tr><td>List(2023-03-11T08:30:00.000+0000, 2023-03-11T09:00:00.000+0000)</td><td>2</td><td>6</td></tr><tr><td>List(2023-03-12T08:30:00.000+0000, 2023-03-12T09:00:00.000+0000)</td><td>1</td><td>5</td></tr><tr><td>List(2023-03-12T08:00:00.000+0000, 2023-03-12T08:30:00.000+0000)</td><td>4</td><td>10</td></tr><tr><td>List(2023-03-12T18:00:00.000+0000, 2023-03-12T18:30:00.000+0000)</td><td>3</td><td>7</td></tr></tbody></table></div>"
      ]
     },
     "metadata": {
      "application/vnd.databricks.v1+output": {
       "addedWidgets": {},
       "aggData": [],
       "aggError": "",
       "aggOverflow": false,
       "aggSchema": [],
       "aggSeriesLimitReached": false,
       "aggType": "",
       "arguments": {},
       "columnCustomDisplayInfos": {},
       "data": [
        [
         [
          "2023-03-11T08:00:00.000+0000",
          "2023-03-11T08:30:00.000+0000"
         ],
         3,
         9
        ],
        [
         [
          "2023-03-11T19:00:00.000+0000",
          "2023-03-11T19:30:00.000+0000"
         ],
         3,
         13
        ],
        [
         [
          "2023-03-11T08:30:00.000+0000",
          "2023-03-11T09:00:00.000+0000"
         ],
         2,
         6
        ],
        [
         [
          "2023-03-12T08:30:00.000+0000",
          "2023-03-12T09:00:00.000+0000"
         ],
         1,
         5
        ],
        [
         [
          "2023-03-12T08:00:00.000+0000",
          "2023-03-12T08:30:00.000+0000"
         ],
         4,
         10
        ],
        [
         [
          "2023-03-12T18:00:00.000+0000",
          "2023-03-12T18:30:00.000+0000"
         ],
         3,
         7
        ]
       ],
       "datasetInfos": [],
       "dbfsResultPath": null,
       "isJsonSchema": true,
       "metadata": {},
       "overflow": false,
       "plotOptions": {
        "customPlotOptions": {},
        "displayType": "table",
        "pivotAggregation": null,
        "pivotColumns": null,
        "xColumns": null,
        "yColumns": null
       },
       "removedWidgets": [],
       "schema": [
        {
         "metadata": "{\"spark.timeWindow\":true}",
         "name": "window",
         "type": "{\"type\":\"struct\",\"fields\":[{\"name\":\"start\",\"type\":\"timestamp\",\"nullable\":true,\"metadata\":{}},{\"name\":\"end\",\"type\":\"timestamp\",\"nullable\":true,\"metadata\":{}}]}"
        },
        {
         "metadata": "{}",
         "name": "count(1)",
         "type": "\"long\""
        },
        {
         "metadata": "{}",
         "name": "sum(gym)",
         "type": "\"long\""
        }
       ],
       "type": "table"
      }
     },
     "output_type": "display_data"
    }
   ],
   "source": [
    "from pyspark.sql.functions import window,sum,count\n",
    "df2 = df1.groupBy(window(df1.login,\"30 minutes\")).agg(count(\"*\"),sum(df1.gym))\n",
    "display(df2)"
   ]
  },
  {
   "cell_type": "code",
   "execution_count": 0,
   "metadata": {
    "application/vnd.databricks.v1+cell": {
     "cellMetadata": {
      "byteLimit": 2048000,
      "rowLimit": 10000
     },
     "inputWidgets": {},
     "nuid": "c48b94bb-2c57-472e-afc4-3c4ee9c0c085",
     "showTitle": false,
     "title": ""
    }
   },
   "outputs": [
    {
     "output_type": "stream",
     "name": "stdout",
     "output_type": "stream",
     "text": [
      "+-------+-------------------+-------------------+\n|user_id|logintime          |logouttime         |\n+-------+-------------------+-------------------+\n|1      |2024-01-25T10:00:00|2024-01-25T12:00:00|\n|2      |2024-01-25T11:00:00|2024-01-25T14:00:00|\n+-------+-------------------+-------------------+\n\n"
     ]
    }
   ],
   "source": [
    "from pyspark.sql import SparkSession\n",
    "from pyspark.sql.functions import col\n",
    "\n",
    "# Create a Spark session\n",
    "spark = SparkSession.builder.appName(\"UserLoginLogout\").getOrCreate()\n",
    "\n",
    "# Sample data\n",
    "data = [\n",
    "    (1, 'login', '2024-01-25T10:00:00'),\n",
    "    (1, 'logout', '2024-01-25T12:00:00'),\n",
    "    (2, 'login', '2024-01-25T11:00:00'),\n",
    "    (2, 'logout', '2024-01-25T14:00:00'),\n",
    "    # Add more data as needed\n",
    "]\n",
    "\n",
    "# Define the schema for the DataFrame\n",
    "schema = [\"user_id\", \"type\", \"time\"]\n",
    "\n",
    "# Create a DataFrame\n",
    "df = spark.createDataFrame(data, schema=schema)\n",
    "\n",
    "# Pivot the DataFrame to get login and logout times as separate columns\n",
    "pivoted_df = df.groupBy(\"user_id\").pivot(\"type\").agg({\"time\": \"max\"})\n",
    "\n",
    "# Rename columns for clarity\n",
    "result_df = pivoted_df.select(\n",
    "    col(\"user_id\"),\n",
    "    col(\"login\").alias(\"logintime\"),\n",
    "    col(\"logout\").alias(\"logouttime\")\n",
    ")\n",
    "\n",
    "# Show the result\n",
    "result_df.show(truncate=False)\n",
    "\n",
    "# Stop the Spark session\n"
   ]
  },
  {
   "cell_type": "code",
   "execution_count": 0,
   "metadata": {
    "application/vnd.databricks.v1+cell": {
     "cellMetadata": {
      "byteLimit": 2048000,
      "rowLimit": 10000
     },
     "inputWidgets": {},
     "nuid": "867bce46-7c82-47fb-95c4-741bfe42ae21",
     "showTitle": false,
     "title": ""
    }
   },
   "outputs": [],
   "source": [
    "from pyspark.sql.functions import expr\n",
    "df1 = (df.select(\"*\").withColumn('logouttime',expr(\"case when type == 'logout' then time else 0 end\")).\n",
    "      withColumn('logintime',expr(\"case when type == 'login' then time else 0 end\"))\n",
    ")"
   ]
  },
  {
   "cell_type": "code",
   "execution_count": 0,
   "metadata": {
    "application/vnd.databricks.v1+cell": {
     "cellMetadata": {
      "byteLimit": 2048000,
      "rowLimit": 10000
     },
     "inputWidgets": {},
     "nuid": "606709ac-1da6-48a7-a5b9-e5d722256b55",
     "showTitle": false,
     "title": ""
    }
   },
   "outputs": [
    {
     "output_type": "display_data",
     "data": {
      "text/html": [
       "<style scoped>\n",
       "  .table-result-container {\n",
       "    max-height: 300px;\n",
       "    overflow: auto;\n",
       "  }\n",
       "  table, th, td {\n",
       "    border: 1px solid black;\n",
       "    border-collapse: collapse;\n",
       "  }\n",
       "  th, td {\n",
       "    padding: 5px;\n",
       "  }\n",
       "  th {\n",
       "    text-align: left;\n",
       "  }\n",
       "</style><div class='table-result-container'><table class='table-result'><thead style='background-color: white'><tr><th>user_id</th><th>type</th><th>time</th><th>logouttime</th><th>logintime</th></tr></thead><tbody><tr><td>1</td><td>login</td><td>2024-01-25T10:00:00</td><td>0</td><td>2024-01-25T10:00:00</td></tr><tr><td>1</td><td>logout</td><td>2024-01-25T12:00:00</td><td>2024-01-25T12:00:00</td><td>0</td></tr><tr><td>2</td><td>login</td><td>2024-01-25T11:00:00</td><td>0</td><td>2024-01-25T11:00:00</td></tr><tr><td>2</td><td>logout</td><td>2024-01-25T14:00:00</td><td>2024-01-25T14:00:00</td><td>0</td></tr></tbody></table></div>"
      ]
     },
     "metadata": {
      "application/vnd.databricks.v1+output": {
       "addedWidgets": {},
       "aggData": [],
       "aggError": "",
       "aggOverflow": false,
       "aggSchema": [],
       "aggSeriesLimitReached": false,
       "aggType": "",
       "arguments": {},
       "columnCustomDisplayInfos": {},
       "data": [
        [
         1,
         "login",
         "2024-01-25T10:00:00",
         "0",
         "2024-01-25T10:00:00"
        ],
        [
         1,
         "logout",
         "2024-01-25T12:00:00",
         "2024-01-25T12:00:00",
         "0"
        ],
        [
         2,
         "login",
         "2024-01-25T11:00:00",
         "0",
         "2024-01-25T11:00:00"
        ],
        [
         2,
         "logout",
         "2024-01-25T14:00:00",
         "2024-01-25T14:00:00",
         "0"
        ]
       ],
       "datasetInfos": [],
       "dbfsResultPath": null,
       "isJsonSchema": true,
       "metadata": {},
       "overflow": false,
       "plotOptions": {
        "customPlotOptions": {},
        "displayType": "table",
        "pivotAggregation": null,
        "pivotColumns": null,
        "xColumns": null,
        "yColumns": null
       },
       "removedWidgets": [],
       "schema": [
        {
         "metadata": "{}",
         "name": "user_id",
         "type": "\"long\""
        },
        {
         "metadata": "{}",
         "name": "type",
         "type": "\"string\""
        },
        {
         "metadata": "{}",
         "name": "time",
         "type": "\"string\""
        },
        {
         "metadata": "{}",
         "name": "logouttime",
         "type": "\"string\""
        },
        {
         "metadata": "{}",
         "name": "logintime",
         "type": "\"string\""
        }
       ],
       "type": "table"
      }
     },
     "output_type": "display_data"
    }
   ],
   "source": [
    "display(df1)"
   ]
  },
  {
   "cell_type": "code",
   "execution_count": 0,
   "metadata": {
    "application/vnd.databricks.v1+cell": {
     "cellMetadata": {
      "byteLimit": 2048000,
      "rowLimit": 10000
     },
     "inputWidgets": {},
     "nuid": "f1a96fbf-7b31-441d-8d2e-772d6d4cff1c",
     "showTitle": false,
     "title": ""
    }
   },
   "outputs": [],
   "source": [
    "from pyspark.sql.functions import expr,when\n",
    "df1 = (df.select(\"*\").withColumn('logouttime',expr(\"case when type == 'logout' then time else 0 end\")).\n",
    "      withColumn('logintime',when(df.type == 'login',df.time).otherwise(0))\n",
    ")"
   ]
  },
  {
   "cell_type": "code",
   "execution_count": 0,
   "metadata": {
    "application/vnd.databricks.v1+cell": {
     "cellMetadata": {
      "byteLimit": 2048000,
      "rowLimit": 10000
     },
     "inputWidgets": {},
     "nuid": "a9f595ac-5593-49b2-84ff-80b189a6dedf",
     "showTitle": false,
     "title": ""
    }
   },
   "outputs": [
    {
     "output_type": "stream",
     "name": "stdout",
     "output_type": "stream",
     "text": [
      "+-------+------+-------------------+-------------------+-------------------+\n|user_id|  type|               time|         logouttime|          logintime|\n+-------+------+-------------------+-------------------+-------------------+\n|      1| login|2024-01-25T10:00:00|                  0|2024-01-25T10:00:00|\n|      1|logout|2024-01-25T12:00:00|2024-01-25T12:00:00|                  0|\n|      2| login|2024-01-25T11:00:00|                  0|2024-01-25T11:00:00|\n|      2|logout|2024-01-25T14:00:00|2024-01-25T14:00:00|                  0|\n+-------+------+-------------------+-------------------+-------------------+\n\n"
     ]
    }
   ],
   "source": [
    "df1.show()"
   ]
  },
  {
   "cell_type": "code",
   "execution_count": 0,
   "metadata": {
    "application/vnd.databricks.v1+cell": {
     "cellMetadata": {
      "byteLimit": 2048000,
      "rowLimit": 10000
     },
     "inputWidgets": {},
     "nuid": "7c42c7da-53ed-4d39-8b94-60c0ba97e928",
     "showTitle": false,
     "title": ""
    }
   },
   "outputs": [
    {
     "output_type": "stream",
     "name": "stdout",
     "output_type": "stream",
     "text": [
      "Unexpected exception formatting exception. Falling back to standard exception\n"
     ]
    },
    {
     "output_type": "stream",
     "name": "stderr",
     "output_type": "stream",
     "text": [
      "Traceback (most recent call last):\n  File \"/databricks/python/lib/python3.9/site-packages/IPython/core/interactiveshell.py\", line 3378, in run_code\n    exec(code_obj, self.user_global_ns, self.user_ns)\n  File \"<command-1180535565560640>\", line 3, in <module>\n    df2=df1.groupBy(\"user_id\").agg(max(\"*\"))\n  File \"/databricks/spark/python/pyspark/instrumentation_utils.py\", line 48, in wrapper\n    res = func(*args, **kwargs)\n  File \"/databricks/spark/python/pyspark/sql/group.py\", line 177, in agg\n    jdf = self._jgd.agg(exprs[0]._jc, _to_seq(self.session._sc, [c._jc for c in exprs[1:]]))\n  File \"/databricks/spark/python/lib/py4j-0.10.9.5-src.zip/py4j/java_gateway.py\", line 1321, in __call__\n    return_value = get_return_value(\n  File \"/databricks/spark/python/pyspark/errors/exceptions.py\", line 234, in deco\n    raise converted from None\npyspark.errors.exceptions.AnalysisException: Invalid usage of '*' in expression 'max'.\n\nDuring handling of the above exception, another exception occurred:\n\nTraceback (most recent call last):\n  File \"/databricks/python/lib/python3.9/site-packages/IPython/core/interactiveshell.py\", line 1997, in showtraceback\n    stb = self.InteractiveTB.structured_traceback(\n  File \"/databricks/python/lib/python3.9/site-packages/IPython/core/ultratb.py\", line 1112, in structured_traceback\n    return FormattedTB.structured_traceback(\n  File \"/databricks/python/lib/python3.9/site-packages/IPython/core/ultratb.py\", line 1006, in structured_traceback\n    return VerboseTB.structured_traceback(\n  File \"/databricks/python/lib/python3.9/site-packages/IPython/core/ultratb.py\", line 859, in structured_traceback\n    formatted_exception = self.format_exception_as_a_whole(etype, evalue, etb, number_of_lines_of_context,\n  File \"/databricks/python/lib/python3.9/site-packages/IPython/core/ultratb.py\", line 812, in format_exception_as_a_whole\n    frames.append(self.format_record(r))\n  File \"/databricks/python/lib/python3.9/site-packages/IPython/core/ultratb.py\", line 730, in format_record\n    result += ''.join(_format_traceback_lines(frame_info.lines, Colors, self.has_colors, lvals))\n  File \"/databricks/python/lib/python3.9/site-packages/stack_data/utils.py\", line 145, in cached_property_wrapper\n    value = obj.__dict__[self.func.__name__] = self.func(obj)\n  File \"/databricks/python/lib/python3.9/site-packages/stack_data/core.py\", line 698, in lines\n    pieces = self.included_pieces\n  File \"/databricks/python/lib/python3.9/site-packages/stack_data/utils.py\", line 145, in cached_property_wrapper\n    value = obj.__dict__[self.func.__name__] = self.func(obj)\n  File \"/databricks/python/lib/python3.9/site-packages/stack_data/core.py\", line 649, in included_pieces\n    pos = scope_pieces.index(self.executing_piece)\n  File \"/databricks/python/lib/python3.9/site-packages/stack_data/utils.py\", line 145, in cached_property_wrapper\n    value = obj.__dict__[self.func.__name__] = self.func(obj)\n  File \"/databricks/python/lib/python3.9/site-packages/stack_data/core.py\", line 628, in executing_piece\n    return only(\n  File \"/databricks/python/lib/python3.9/site-packages/executing/executing.py\", line 164, in only\n    raise NotOneValueFound('Expected one value, found 0')\nexecuting.executing.NotOneValueFound: Expected one value, found 0\n"
     ]
    },
    {
     "output_type": "display_data",
     "data": {
      "text/plain": [
       ""
      ]
     },
     "metadata": {
      "application/vnd.databricks.v1+output": {
       "arguments": {},
       "data": "",
       "errorSummary": "<span class='ansi-red-fg'>AnalysisException</span>: Invalid usage of '*' in expression 'max'.",
       "errorTraceType": "ansi",
       "metadata": {},
       "type": "ipynbError"
      }
     },
     "output_type": "display_data"
    }
   ],
   "source": [
    "from pyspark.sql.functions import expr,when,col,max,count\n",
    "\n",
    "df2=df1.groupBy(\"user_id\").agg(max(\"*\"))\n",
    "display(df2)"
   ]
  },
  {
   "cell_type": "code",
   "execution_count": 0,
   "metadata": {
    "application/vnd.databricks.v1+cell": {
     "cellMetadata": {
      "byteLimit": 2048000,
      "rowLimit": 10000
     },
     "inputWidgets": {},
     "nuid": "654c09a5-b87a-4e38-8085-0fe666a87f3f",
     "showTitle": false,
     "title": ""
    }
   },
   "outputs": [
    {
     "output_type": "display_data",
     "data": {
      "text/plain": [
       ""
      ]
     },
     "metadata": {
      "application/vnd.databricks.v1+output": {
       "arguments": {},
       "data": "",
       "errorSummary": "Command skipped",
       "errorTraceType": "ansi",
       "metadata": {},
       "type": "ipynbError"
      }
     },
     "output_type": "display_data"
    }
   ],
   "source": [
    "from pyspark.sql.functions import expr,when,col,max,count\n",
    "from pyspark.sql import window as win\n",
    "print(df1.printSchema())\n",
    "\n",
    "df2 = df1.withColumn('hii' , df1.logouttime.cast('timestamp') + df1.logintime.cast('timestamp'))\n",
    "# df2=df1.groupBy(\"user_id\").agg(sum(col('logouttime'),col('logintime')))\n",
    "display(df2)"
   ]
  },
  {
   "cell_type": "code",
   "execution_count": 0,
   "metadata": {
    "application/vnd.databricks.v1+cell": {
     "cellMetadata": {
      "byteLimit": 2048000,
      "rowLimit": 10000
     },
     "inputWidgets": {},
     "nuid": "63f8107c-ba7e-48cb-bb24-099baf1905ef",
     "showTitle": false,
     "title": ""
    }
   },
   "outputs": [],
   "source": [
    "from pyspark.sql.functions import expr,when\n",
    "df1 = (df.select(\"*\").\n",
    "    # withColumn('logouttime',expr(\"case when type == 'logout' then time else 0 end\")).\n",
    "    withColumn('logouttime',when(df.type == 'logout',df.time).otherwise(None)).\n",
    "    withColumn('logintime',when(df.type == 'login',df.time).otherwise(None))\n",
    ")"
   ]
  },
  {
   "cell_type": "code",
   "execution_count": 0,
   "metadata": {
    "application/vnd.databricks.v1+cell": {
     "cellMetadata": {
      "byteLimit": 2048000,
      "rowLimit": 10000
     },
     "inputWidgets": {},
     "nuid": "42f6fffd-4c72-440f-8214-ade419cf3b1d",
     "showTitle": false,
     "title": ""
    }
   },
   "outputs": [
    {
     "output_type": "stream",
     "name": "stdout",
     "output_type": "stream",
     "text": [
      "root\n |-- user_id: long (nullable = true)\n |-- type: string (nullable = true)\n |-- time: string (nullable = true)\n |-- logouttime: string (nullable = true)\n |-- logintime: string (nullable = true)\n\nNone\n"
     ]
    },
    {
     "output_type": "display_data",
     "data": {
      "text/html": [
       "<style scoped>\n",
       "  .table-result-container {\n",
       "    max-height: 300px;\n",
       "    overflow: auto;\n",
       "  }\n",
       "  table, th, td {\n",
       "    border: 1px solid black;\n",
       "    border-collapse: collapse;\n",
       "  }\n",
       "  th, td {\n",
       "    padding: 5px;\n",
       "  }\n",
       "  th {\n",
       "    text-align: left;\n",
       "  }\n",
       "</style><div class='table-result-container'><table class='table-result'><thead style='background-color: white'><tr><th>user_id</th><th>lit</th><th>lot</th></tr></thead><tbody><tr><td>1</td><td>2024-01-25T10:00:00</td><td>2024-01-25T12:00:00</td></tr><tr><td>2</td><td>2024-01-25T11:00:00</td><td>2024-01-25T14:00:00</td></tr></tbody></table></div>"
      ]
     },
     "metadata": {
      "application/vnd.databricks.v1+output": {
       "addedWidgets": {},
       "aggData": [],
       "aggError": "",
       "aggOverflow": false,
       "aggSchema": [],
       "aggSeriesLimitReached": false,
       "aggType": "",
       "arguments": {},
       "columnCustomDisplayInfos": {},
       "data": [
        [
         1,
         "2024-01-25T10:00:00",
         "2024-01-25T12:00:00"
        ],
        [
         2,
         "2024-01-25T11:00:00",
         "2024-01-25T14:00:00"
        ]
       ],
       "datasetInfos": [],
       "dbfsResultPath": null,
       "isJsonSchema": true,
       "metadata": {},
       "overflow": false,
       "plotOptions": {
        "customPlotOptions": {},
        "displayType": "table",
        "pivotAggregation": null,
        "pivotColumns": null,
        "xColumns": null,
        "yColumns": null
       },
       "removedWidgets": [],
       "schema": [
        {
         "metadata": "{}",
         "name": "user_id",
         "type": "\"long\""
        },
        {
         "metadata": "{}",
         "name": "lit",
         "type": "\"string\""
        },
        {
         "metadata": "{}",
         "name": "lot",
         "type": "\"string\""
        }
       ],
       "type": "table"
      }
     },
     "output_type": "display_data"
    }
   ],
   "source": [
    "from pyspark.sql.functions import expr,when,col,max,count,first,last\n",
    "from pyspark.sql.window import Window as win\n",
    "print(df1.printSchema())\n",
    "\n",
    "wn = win.partitionBy('user_id')\n",
    "\n",
    "df2 = (df1.withColumn('lit',first('logintime').over(wn.orderBy(col('time').asc())))\n",
    "    .withColumn('lot',first('logouttime').over(wn.orderBy(col('time').desc())))\n",
    "    .select('user_id','lit','lot')\n",
    "    .dropDuplicates()\n",
    "    )\n",
    "\n",
    "\n",
    "# df2=df1.groupBy(\"user_id\").agg(sum(col('logouttime'),col('logintime')))\n",
    "display(df2)"
   ]
  },
  {
   "cell_type": "code",
   "execution_count": 0,
   "metadata": {
    "application/vnd.databricks.v1+cell": {
     "cellMetadata": {
      "byteLimit": 2048000,
      "rowLimit": 10000
     },
     "inputWidgets": {},
     "nuid": "1b43ca76-d6f7-4aad-be4f-99d6e742b119",
     "showTitle": false,
     "title": ""
    }
   },
   "outputs": [
    {
     "output_type": "display_data",
     "data": {
      "text/html": [
       "<style scoped>\n",
       "  .table-result-container {\n",
       "    max-height: 300px;\n",
       "    overflow: auto;\n",
       "  }\n",
       "  table, th, td {\n",
       "    border: 1px solid black;\n",
       "    border-collapse: collapse;\n",
       "  }\n",
       "  th, td {\n",
       "    padding: 5px;\n",
       "  }\n",
       "  th {\n",
       "    text-align: left;\n",
       "  }\n",
       "</style><div class='table-result-container'><table class='table-result'><thead style='background-color: white'><tr><th>user_id</th><th>type</th><th>time</th><th>logouttime</th><th>logintime</th></tr></thead><tbody><tr><td>1</td><td>login</td><td>2024-01-25T10:00:00</td><td>null</td><td>2024-01-25T10:00:00</td></tr><tr><td>1</td><td>logout</td><td>2024-01-25T12:00:00</td><td>2024-01-25T12:00:00</td><td>null</td></tr><tr><td>2</td><td>login</td><td>2024-01-25T11:00:00</td><td>null</td><td>2024-01-25T11:00:00</td></tr><tr><td>2</td><td>logout</td><td>2024-01-25T14:00:00</td><td>2024-01-25T14:00:00</td><td>null</td></tr></tbody></table></div>"
      ]
     },
     "metadata": {
      "application/vnd.databricks.v1+output": {
       "addedWidgets": {},
       "aggData": [],
       "aggError": "",
       "aggOverflow": false,
       "aggSchema": [],
       "aggSeriesLimitReached": false,
       "aggType": "",
       "arguments": {},
       "columnCustomDisplayInfos": {},
       "data": [
        [
         1,
         "login",
         "2024-01-25T10:00:00",
         null,
         "2024-01-25T10:00:00"
        ],
        [
         1,
         "logout",
         "2024-01-25T12:00:00",
         "2024-01-25T12:00:00",
         null
        ],
        [
         2,
         "login",
         "2024-01-25T11:00:00",
         null,
         "2024-01-25T11:00:00"
        ],
        [
         2,
         "logout",
         "2024-01-25T14:00:00",
         "2024-01-25T14:00:00",
         null
        ]
       ],
       "datasetInfos": [],
       "dbfsResultPath": null,
       "isJsonSchema": true,
       "metadata": {},
       "overflow": false,
       "plotOptions": {
        "customPlotOptions": {},
        "displayType": "table",
        "pivotAggregation": null,
        "pivotColumns": null,
        "xColumns": null,
        "yColumns": null
       },
       "removedWidgets": [],
       "schema": [
        {
         "metadata": "{}",
         "name": "user_id",
         "type": "\"long\""
        },
        {
         "metadata": "{}",
         "name": "type",
         "type": "\"string\""
        },
        {
         "metadata": "{}",
         "name": "time",
         "type": "\"string\""
        },
        {
         "metadata": "{}",
         "name": "logouttime",
         "type": "\"string\""
        },
        {
         "metadata": "{}",
         "name": "logintime",
         "type": "\"string\""
        }
       ],
       "type": "table"
      }
     },
     "output_type": "display_data"
    }
   ],
   "source": [
    "display(df1)"
   ]
  },
  {
   "cell_type": "code",
   "execution_count": 0,
   "metadata": {
    "application/vnd.databricks.v1+cell": {
     "cellMetadata": {},
     "inputWidgets": {},
     "nuid": "e2f3f90c-c0a5-4123-bfb6-48aaf53002f3",
     "showTitle": false,
     "title": ""
    }
   },
   "outputs": [],
   "source": []
  }
 ],
 "metadata": {
  "application/vnd.databricks.v1+notebook": {
   "dashboards": [],
   "language": "python",
   "notebookMetadata": {
    "pythonIndentUnit": 4
   },
   "notebookName": "ScratchPad-practiseSheet-windows",
   "widgets": {}
  }
 },
 "nbformat": 4,
 "nbformat_minor": 0
}
