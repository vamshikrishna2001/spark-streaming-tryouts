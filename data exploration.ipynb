{
 "cells": [
  {
   "cell_type": "code",
   "execution_count": 0,
   "metadata": {
    "application/vnd.databricks.v1+cell": {
     "cellMetadata": {
      "byteLimit": 2048000,
      "rowLimit": 10000
     },
     "inputWidgets": {},
     "nuid": "f8d90a9d-d385-416d-8ab5-bf7f100c9c3f",
     "showTitle": false,
     "title": ""
    }
   },
   "outputs": [
    {
     "output_type": "stream",
     "name": "stdout",
     "output_type": "stream",
     "text": [
      "Out[3]: [FileInfo(path='dbfs:/FileStore/tables/1_registered_users_1.csv', name='1_registered_users_1.csv', size=266, modificationTime=1706195933000),\n FileInfo(path='dbfs:/FileStore/tables/1_registered_users_2.csv', name='1_registered_users_2.csv', size=263, modificationTime=1706195933000),\n FileInfo(path='dbfs:/FileStore/tables/2_user_info_1.json', name='2_user_info_1.json', size=2913, modificationTime=1706195933000),\n FileInfo(path='dbfs:/FileStore/tables/2_user_info_2.json', name='2_user_info_2.json', size=2482, modificationTime=1706195933000),\n FileInfo(path='dbfs:/FileStore/tables/3_bpm_1.json', name='3_bpm_1.json', size=39990667, modificationTime=1706195982000),\n FileInfo(path='dbfs:/FileStore/tables/3_bpm_2.json', name='3_bpm_2.json', size=39994963, modificationTime=1706195982000),\n FileInfo(path='dbfs:/FileStore/tables/4_workout_1.json', name='4_workout_1.json', size=3319, modificationTime=1706195983000),\n FileInfo(path='dbfs:/FileStore/tables/4_workout_2.json', name='4_workout_2.json', size=3319, modificationTime=1706195983000),\n FileInfo(path='dbfs:/FileStore/tables/5_gym_logins_1.csv', name='5_gym_logins_1.csv', size=364, modificationTime=1706195983000),\n FileInfo(path='dbfs:/FileStore/tables/5_gym_logins_2.csv', name='5_gym_logins_2.csv', size=364, modificationTime=1706195983000),\n FileInfo(path='dbfs:/FileStore/tables/6_date_lookup.json', name='6_date_lookup.json', size=48660, modificationTime=1706195984000),\n FileInfo(path='dbfs:/FileStore/tables/7_gym_summary_1.parquet', name='7_gym_summary_1.parquet', size=2619, modificationTime=1706195984000),\n FileInfo(path='dbfs:/FileStore/tables/7_gym_summary_2.parquet', name='7_gym_summary_2.parquet', size=2806, modificationTime=1706195984000),\n FileInfo(path='dbfs:/FileStore/tables/8_workout_bpm_summary_2.parquet', name='8_workout_bpm_summary_2.parquet', size=3232, modificationTime=1706195984000),\n FileInfo(path='dbfs:/FileStore/tables/airlines.csv', name='airlines.csv', size=322026, modificationTime=1706183478000),\n FileInfo(path='dbfs:/FileStore/tables/archive.zip', name='archive.zip', size=123232, modificationTime=1706183318000),\n FileInfo(path='dbfs:/FileStore/tables/scanning_time_size.json', name='scanning_time_size.json', size=3089, modificationTime=1706182772000)]"
     ]
    }
   ],
   "source": [
    "dbutils.fs.ls('/FileStore/tables')"
   ]
  },
  {
   "cell_type": "code",
   "execution_count": 0,
   "metadata": {
    "application/vnd.databricks.v1+cell": {
     "cellMetadata": {
      "byteLimit": 2048000,
      "rowLimit": 10000
     },
     "inputWidgets": {},
     "nuid": "2251364d-8def-43cd-992c-a66c63aee7f4",
     "showTitle": false,
     "title": ""
    }
   },
   "outputs": [],
   "source": [
    "from pyspark.sql import *\n",
    "from pyspark import SparkConf\n",
    "\n",
    "conf = SparkConf()\n",
    "conf.set(\"spark.app.name\",\"targaryen\")\n",
    "conf.set(\"spark.master\",\"local[*]\")\n",
    "    \n",
    "spark = SparkSession.builder.config(conf=conf).getOrCreate()  \n",
    "    \n",
    "# schema = \"user_id long , device_id long , mac_address string , registration_timestamp long\"\n",
    "df = (spark.read\n",
    "        .format(\"json\") \n",
    "        .option(\"inferschema\",\"true\") \n",
    "        .load(\"/FileStore/tables/2_user_info_*\")\n",
    ")\n"
   ]
  },
  {
   "cell_type": "code",
   "execution_count": 0,
   "metadata": {
    "application/vnd.databricks.v1+cell": {
     "cellMetadata": {
      "byteLimit": 2048000,
      "rowLimit": 10000
     },
     "inputWidgets": {},
     "nuid": "e2c1fc83-7b9e-4eec-96f5-7ec72035287d",
     "showTitle": false,
     "title": ""
    }
   },
   "outputs": [
    {
     "output_type": "display_data",
     "data": {
      "text/html": [
       "<style scoped>\n",
       "  .table-result-container {\n",
       "    max-height: 300px;\n",
       "    overflow: auto;\n",
       "  }\n",
       "  table, th, td {\n",
       "    border: 1px solid black;\n",
       "    border-collapse: collapse;\n",
       "  }\n",
       "  th, td {\n",
       "    padding: 5px;\n",
       "  }\n",
       "  th {\n",
       "    text-align: left;\n",
       "  }\n",
       "</style><div class='table-result-container'><table class='table-result'><thead style='background-color: white'><tr><th>key</th><th>offset</th><th>partition</th><th>timestamp</th><th>topic</th><th>value</th></tr></thead><tbody><tr><td>12474</td><td>12791</td><td>0</td><td>1678451168</td><td>user_info</td><td>{\"user_id\": 12474, \"update_type\": \"new\", \"timestamp\": 1678451168.0, \"dob\": \"07/25/1939\", \"sex\": \"M\", \"gender\": \"M\", \"first_name\": \"Matthew\", \"last_name\": \"Phillips\", \"address\": {\"street_address\": \"02648 Wilkins Cliffs Suite 998\", \"city\": \"San Fernando\", \"state\": \"CA\", \"zip\": 91340}}</td></tr><tr><td>12140</td><td>12755</td><td>0</td><td>1678451529</td><td>user_info</td><td>{\"user_id\": 12140, \"update_type\": \"new\", \"timestamp\": 1678451529, \"dob\": \"02/02/1999\", \"sex\": \"M\", \"gender\": \"M\", \"first_name\": \"Robert\", \"last_name\": \"Clark\", \"address\": {\"street_address\": \"68994 Steven Vista\", \"city\": \"Pearblossom\", \"state\": \"CA\", \"zip\": 93553}}</td></tr><tr><td>12140</td><td>12850</td><td>0</td><td>1678451625</td><td>user_info</td><td>{\"user_id\": 12140, \"update_type\": \"update\", \"timestamp\": 1678451625.0, \"dob\": \"02/02/1999\", \"sex\": \"M\", \"gender\": \"M\", \"first_name\": \"Robert\", \"last_name\": \"Castillo\", \"address\": {\"street_address\": \"68994 Steven Vista\", \"city\": \"Pearblossom\", \"state\": \"CA\", \"zip\": 93553}}</td></tr><tr><td>13559</td><td>12760</td><td>0</td><td>1678451631</td><td>user_info</td><td>{\"user_id\": 13559, \"update_type\": \"new\", \"timestamp\": 1678451631, \"dob\": \"03/06/1980\", \"sex\": \"F\", \"gender\": \"F\", \"first_name\": \"Victoria\", \"last_name\": \"Smith\", \"address\": {\"street_address\": \"88788 Dawson Lodge\", \"city\": \"Los Angeles\", \"state\": \"CA\", \"zip\": 90065}}</td></tr><tr><td>13559</td><td>12841</td><td>0</td><td>1678451650</td><td>user_info</td><td>{\"user_id\": 13559, \"update_type\": \"update\", \"timestamp\": 1678451650.0, \"dob\": \"03/06/1980\", \"sex\": \"F\", \"gender\": \"F\", \"first_name\": \"Victoria\", \"last_name\": \"Smith\", \"address\": {\"street_address\": \"634 Acevedo Mountain\", \"city\": \"Santa Monica\", \"state\": \"CA\", \"zip\": 90405}}</td></tr><tr><td>11745</td><td>12816</td><td>0</td><td>1678451681</td><td>user_info</td><td>{\"user_id\": 11745, \"update_type\": \"new\", \"timestamp\": 1678451681.0, \"dob\": \"06/29/1955\", \"sex\": \"F\", \"gender\": \"F\", \"first_name\": \"Shannon\", \"last_name\": \"Reyes\", \"address\": {\"street_address\": \"3105 Bowers Expressway\", \"city\": \"Long Beach\", \"state\": \"CA\", \"zip\": 90808}}</td></tr><tr><td>12227</td><td>12820</td><td>0</td><td>1678452028</td><td>user_info</td><td>{\"user_id\": 12227, \"update_type\": \"new\", \"timestamp\": 1678452028.0, \"dob\": \"12/11/1949\", \"sex\": \"F\", \"gender\": \"F\", \"first_name\": \"Courtney\", \"last_name\": \"Sheppard\", \"address\": {\"street_address\": \"47754 Angela Plaza Apt. 135\", \"city\": \"Los Angeles\", \"state\": \"CA\", \"zip\": 90010}}</td></tr><tr><td>14633</td><td>12848</td><td>0</td><td>1678538830</td><td>user_info</td><td>{\"user_id\": 14633, \"update_type\": \"new\", \"timestamp\": 1678538830.0, \"dob\": \"09/04/1997\", \"sex\": \"F\", \"gender\": \"F\", \"first_name\": \"Hannah\", \"last_name\": \"Fuller\", \"address\": {\"street_address\": \"81346 Obrien Streets\", \"city\": \"Gardena\", \"state\": \"CA\", \"zip\": 90249}}</td></tr><tr><td>14508</td><td>12782</td><td>0</td><td>1678539025</td><td>user_info</td><td>{\"user_id\": 14508, \"update_type\": \"new\", \"timestamp\": 1678539025, \"dob\": \"01/28/1936\", \"sex\": \"M\", \"gender\": \"M\", \"first_name\": \"Justin\", \"last_name\": \"Eaton\", \"address\": {\"street_address\": \"04952 Lori Plain\", \"city\": \"Sierra Madre\", \"state\": \"CA\", \"zip\": 91024}}</td></tr><tr><td>13937</td><td>12801</td><td>0</td><td>1678539037</td><td>user_info</td><td>{\"user_id\": 13937, \"update_type\": \"new\", \"timestamp\": 1678539037.0, \"dob\": \"04/26/1982\", \"sex\": \"M\", \"gender\": \"M\", \"first_name\": \"Matthew\", \"last_name\": \"Johnson\", \"address\": {\"street_address\": \"9231 Edward Throughway Suite 072\", \"city\": \"Toluca Lake\", \"state\": \"CA\", \"zip\": 91610}}</td></tr><tr><td>14232</td><td>12771</td><td>0</td><td>1678539087</td><td>user_info</td><td>{\"user_id\": 14232, \"update_type\": \"new\", \"timestamp\": 1678539087, \"dob\": \"01/04/1979\", \"sex\": \"M\", \"gender\": \"M\", \"first_name\": \"Edward\", \"last_name\": \"Simpson\", \"address\": {\"street_address\": \"92012 Bradley Shoals\", \"city\": \"Long Beach\", \"state\": \"CA\", \"zip\": 90815}}</td></tr><tr><td>14232</td><td>12829</td><td>0</td><td>1678539098</td><td>user_info</td><td>{\"user_id\": 14232, \"update_type\": \"update\", \"timestamp\": 1678539098.0, \"dob\": \"01/04/1979\", \"sex\": \"M\", \"gender\": \"M\", \"first_name\": \"Edward\", \"last_name\": \"Smith\", \"address\": {\"street_address\": \"41444 Noble Cape Suite 390\", \"city\": \"North Hollywood\", \"state\": \"CA\", \"zip\": 91606}}</td></tr><tr><td>15149</td><td>12773</td><td>0</td><td>1678539102</td><td>user_info</td><td>{\"user_id\": 15149, \"update_type\": \"new\", \"timestamp\": 1678539102, \"dob\": \"03/30/1972\", \"sex\": \"M\", \"gender\": \"M\", \"first_name\": \"Cameron\", \"last_name\": \"Vasquez\", \"address\": {\"street_address\": \"95932 Gary Ridges\", \"city\": \"Los Angeles\", \"state\": \"CA\", \"zip\": 90018}}</td></tr></tbody></table></div>"
      ]
     },
     "metadata": {
      "application/vnd.databricks.v1+output": {
       "addedWidgets": {},
       "aggData": [],
       "aggError": "",
       "aggOverflow": false,
       "aggSchema": [],
       "aggSeriesLimitReached": false,
       "aggType": "",
       "arguments": {},
       "columnCustomDisplayInfos": {},
       "data": [
        [
         "12474",
         12791,
         0,
         1678451168,
         "user_info",
         "{\"user_id\": 12474, \"update_type\": \"new\", \"timestamp\": 1678451168.0, \"dob\": \"07/25/1939\", \"sex\": \"M\", \"gender\": \"M\", \"first_name\": \"Matthew\", \"last_name\": \"Phillips\", \"address\": {\"street_address\": \"02648 Wilkins Cliffs Suite 998\", \"city\": \"San Fernando\", \"state\": \"CA\", \"zip\": 91340}}"
        ],
        [
         "12140",
         12755,
         0,
         1678451529,
         "user_info",
         "{\"user_id\": 12140, \"update_type\": \"new\", \"timestamp\": 1678451529, \"dob\": \"02/02/1999\", \"sex\": \"M\", \"gender\": \"M\", \"first_name\": \"Robert\", \"last_name\": \"Clark\", \"address\": {\"street_address\": \"68994 Steven Vista\", \"city\": \"Pearblossom\", \"state\": \"CA\", \"zip\": 93553}}"
        ],
        [
         "12140",
         12850,
         0,
         1678451625,
         "user_info",
         "{\"user_id\": 12140, \"update_type\": \"update\", \"timestamp\": 1678451625.0, \"dob\": \"02/02/1999\", \"sex\": \"M\", \"gender\": \"M\", \"first_name\": \"Robert\", \"last_name\": \"Castillo\", \"address\": {\"street_address\": \"68994 Steven Vista\", \"city\": \"Pearblossom\", \"state\": \"CA\", \"zip\": 93553}}"
        ],
        [
         "13559",
         12760,
         0,
         1678451631,
         "user_info",
         "{\"user_id\": 13559, \"update_type\": \"new\", \"timestamp\": 1678451631, \"dob\": \"03/06/1980\", \"sex\": \"F\", \"gender\": \"F\", \"first_name\": \"Victoria\", \"last_name\": \"Smith\", \"address\": {\"street_address\": \"88788 Dawson Lodge\", \"city\": \"Los Angeles\", \"state\": \"CA\", \"zip\": 90065}}"
        ],
        [
         "13559",
         12841,
         0,
         1678451650,
         "user_info",
         "{\"user_id\": 13559, \"update_type\": \"update\", \"timestamp\": 1678451650.0, \"dob\": \"03/06/1980\", \"sex\": \"F\", \"gender\": \"F\", \"first_name\": \"Victoria\", \"last_name\": \"Smith\", \"address\": {\"street_address\": \"634 Acevedo Mountain\", \"city\": \"Santa Monica\", \"state\": \"CA\", \"zip\": 90405}}"
        ],
        [
         "11745",
         12816,
         0,
         1678451681,
         "user_info",
         "{\"user_id\": 11745, \"update_type\": \"new\", \"timestamp\": 1678451681.0, \"dob\": \"06/29/1955\", \"sex\": \"F\", \"gender\": \"F\", \"first_name\": \"Shannon\", \"last_name\": \"Reyes\", \"address\": {\"street_address\": \"3105 Bowers Expressway\", \"city\": \"Long Beach\", \"state\": \"CA\", \"zip\": 90808}}"
        ],
        [
         "12227",
         12820,
         0,
         1678452028,
         "user_info",
         "{\"user_id\": 12227, \"update_type\": \"new\", \"timestamp\": 1678452028.0, \"dob\": \"12/11/1949\", \"sex\": \"F\", \"gender\": \"F\", \"first_name\": \"Courtney\", \"last_name\": \"Sheppard\", \"address\": {\"street_address\": \"47754 Angela Plaza Apt. 135\", \"city\": \"Los Angeles\", \"state\": \"CA\", \"zip\": 90010}}"
        ],
        [
         "14633",
         12848,
         0,
         1678538830,
         "user_info",
         "{\"user_id\": 14633, \"update_type\": \"new\", \"timestamp\": 1678538830.0, \"dob\": \"09/04/1997\", \"sex\": \"F\", \"gender\": \"F\", \"first_name\": \"Hannah\", \"last_name\": \"Fuller\", \"address\": {\"street_address\": \"81346 Obrien Streets\", \"city\": \"Gardena\", \"state\": \"CA\", \"zip\": 90249}}"
        ],
        [
         "14508",
         12782,
         0,
         1678539025,
         "user_info",
         "{\"user_id\": 14508, \"update_type\": \"new\", \"timestamp\": 1678539025, \"dob\": \"01/28/1936\", \"sex\": \"M\", \"gender\": \"M\", \"first_name\": \"Justin\", \"last_name\": \"Eaton\", \"address\": {\"street_address\": \"04952 Lori Plain\", \"city\": \"Sierra Madre\", \"state\": \"CA\", \"zip\": 91024}}"
        ],
        [
         "13937",
         12801,
         0,
         1678539037,
         "user_info",
         "{\"user_id\": 13937, \"update_type\": \"new\", \"timestamp\": 1678539037.0, \"dob\": \"04/26/1982\", \"sex\": \"M\", \"gender\": \"M\", \"first_name\": \"Matthew\", \"last_name\": \"Johnson\", \"address\": {\"street_address\": \"9231 Edward Throughway Suite 072\", \"city\": \"Toluca Lake\", \"state\": \"CA\", \"zip\": 91610}}"
        ],
        [
         "14232",
         12771,
         0,
         1678539087,
         "user_info",
         "{\"user_id\": 14232, \"update_type\": \"new\", \"timestamp\": 1678539087, \"dob\": \"01/04/1979\", \"sex\": \"M\", \"gender\": \"M\", \"first_name\": \"Edward\", \"last_name\": \"Simpson\", \"address\": {\"street_address\": \"92012 Bradley Shoals\", \"city\": \"Long Beach\", \"state\": \"CA\", \"zip\": 90815}}"
        ],
        [
         "14232",
         12829,
         0,
         1678539098,
         "user_info",
         "{\"user_id\": 14232, \"update_type\": \"update\", \"timestamp\": 1678539098.0, \"dob\": \"01/04/1979\", \"sex\": \"M\", \"gender\": \"M\", \"first_name\": \"Edward\", \"last_name\": \"Smith\", \"address\": {\"street_address\": \"41444 Noble Cape Suite 390\", \"city\": \"North Hollywood\", \"state\": \"CA\", \"zip\": 91606}}"
        ],
        [
         "15149",
         12773,
         0,
         1678539102,
         "user_info",
         "{\"user_id\": 15149, \"update_type\": \"new\", \"timestamp\": 1678539102, \"dob\": \"03/30/1972\", \"sex\": \"M\", \"gender\": \"M\", \"first_name\": \"Cameron\", \"last_name\": \"Vasquez\", \"address\": {\"street_address\": \"95932 Gary Ridges\", \"city\": \"Los Angeles\", \"state\": \"CA\", \"zip\": 90018}}"
        ]
       ],
       "datasetInfos": [],
       "dbfsResultPath": null,
       "isJsonSchema": true,
       "metadata": {},
       "overflow": false,
       "plotOptions": {
        "customPlotOptions": {},
        "displayType": "table",
        "pivotAggregation": null,
        "pivotColumns": null,
        "xColumns": null,
        "yColumns": null
       },
       "removedWidgets": [],
       "schema": [
        {
         "metadata": "{}",
         "name": "key",
         "type": "\"string\""
        },
        {
         "metadata": "{}",
         "name": "offset",
         "type": "\"long\""
        },
        {
         "metadata": "{}",
         "name": "partition",
         "type": "\"long\""
        },
        {
         "metadata": "{}",
         "name": "timestamp",
         "type": "\"long\""
        },
        {
         "metadata": "{}",
         "name": "topic",
         "type": "\"string\""
        },
        {
         "metadata": "{}",
         "name": "value",
         "type": "\"string\""
        }
       ],
       "type": "table"
      }
     },
     "output_type": "display_data"
    }
   ],
   "source": [
    "display(df)"
   ]
  },
  {
   "cell_type": "code",
   "execution_count": 0,
   "metadata": {
    "application/vnd.databricks.v1+cell": {
     "cellMetadata": {
      "byteLimit": 2048000,
      "rowLimit": 10000
     },
     "inputWidgets": {},
     "nuid": "66c67a93-f533-4bb9-b1b8-0b58c2501d6a",
     "showTitle": false,
     "title": ""
    }
   },
   "outputs": [
    {
     "output_type": "stream",
     "name": "stdout",
     "output_type": "stream",
     "text": [
      "root\n |-- key: string (nullable = true)\n |-- offset: long (nullable = true)\n |-- partition: long (nullable = true)\n |-- timestamp: long (nullable = true)\n |-- topic: string (nullable = true)\n |-- value: string (nullable = true)\n\n"
     ]
    }
   ],
   "source": [
    "df.printSchema()"
   ]
  },
  {
   "cell_type": "code",
   "execution_count": 0,
   "metadata": {
    "application/vnd.databricks.v1+cell": {
     "cellMetadata": {
      "byteLimit": 2048000,
      "rowLimit": 10000
     },
     "inputWidgets": {},
     "nuid": "8fd27678-195c-4450-9a5d-aad11d39c40d",
     "showTitle": false,
     "title": ""
    }
   },
   "outputs": [],
   "source": [
    "        schema = \"\"\"\n",
    "            user_id bigint, update_type STRING, timestamp FLOAT, \n",
    "            dob STRING, sex STRING, gender STRING, first_name STRING, last_name STRING, \n",
    "            address STRUCT<street_address: STRING, city: STRING, state: STRING, zip: INT>\n",
    "            \"\"\""
   ]
  },
  {
   "cell_type": "code",
   "execution_count": 0,
   "metadata": {
    "application/vnd.databricks.v1+cell": {
     "cellMetadata": {
      "byteLimit": 2048000,
      "rowLimit": 10000
     },
     "inputWidgets": {},
     "nuid": "1fc348a7-1baf-476b-bd14-19ec3e650b3a",
     "showTitle": false,
     "title": ""
    }
   },
   "outputs": [
    {
     "output_type": "display_data",
     "data": {
      "text/html": [
       "<style scoped>\n",
       "  .table-result-container {\n",
       "    max-height: 300px;\n",
       "    overflow: auto;\n",
       "  }\n",
       "  table, th, td {\n",
       "    border: 1px solid black;\n",
       "    border-collapse: collapse;\n",
       "  }\n",
       "  th, td {\n",
       "    padding: 5px;\n",
       "  }\n",
       "  th {\n",
       "    text-align: left;\n",
       "  }\n",
       "</style><div class='table-result-container'><table class='table-result'><thead style='background-color: white'><tr><th>v</th></tr></thead><tbody><tr><td>List(12474, new, 1.6784512E9, 07/25/1939, M, M, Matthew, Phillips, List(02648 Wilkins Cliffs Suite 998, San Fernando, CA, 91340))</td></tr><tr><td>List(12140, new, 1.67845158E9, 02/02/1999, M, M, Robert, Clark, List(68994 Steven Vista, Pearblossom, CA, 93553))</td></tr><tr><td>List(12140, update, 1.67845158E9, 02/02/1999, M, M, Robert, Castillo, List(68994 Steven Vista, Pearblossom, CA, 93553))</td></tr><tr><td>List(13559, new, 1.67845158E9, 03/06/1980, F, F, Victoria, Smith, List(88788 Dawson Lodge, Los Angeles, CA, 90065))</td></tr><tr><td>List(13559, update, 1.67845171E9, 03/06/1980, F, F, Victoria, Smith, List(634 Acevedo Mountain, Santa Monica, CA, 90405))</td></tr><tr><td>List(11745, new, 1.67845171E9, 06/29/1955, F, F, Shannon, Reyes, List(3105 Bowers Expressway, Long Beach, CA, 90808))</td></tr><tr><td>List(12227, new, 1.67845197E9, 12/11/1949, F, F, Courtney, Sheppard, List(47754 Angela Plaza Apt. 135, Los Angeles, CA, 90010))</td></tr><tr><td>List(14633, new, 1.67853888E9, 09/04/1997, F, F, Hannah, Fuller, List(81346 Obrien Streets, Gardena, CA, 90249))</td></tr><tr><td>List(14508, new, 1.67853901E9, 01/28/1936, M, M, Justin, Eaton, List(04952 Lori Plain, Sierra Madre, CA, 91024))</td></tr><tr><td>List(13937, new, 1.67853901E9, 04/26/1982, M, M, Matthew, Johnson, List(9231 Edward Throughway Suite 072, Toluca Lake, CA, 91610))</td></tr><tr><td>List(14232, new, 1.67853914E9, 01/04/1979, M, M, Edward, Simpson, List(92012 Bradley Shoals, Long Beach, CA, 90815))</td></tr><tr><td>List(14232, update, 1.67853914E9, 01/04/1979, M, M, Edward, Smith, List(41444 Noble Cape Suite 390, North Hollywood, CA, 91606))</td></tr><tr><td>List(15149, new, 1.67853914E9, 03/30/1972, M, M, Cameron, Vasquez, List(95932 Gary Ridges, Los Angeles, CA, 90018))</td></tr></tbody></table></div>"
      ]
     },
     "metadata": {
      "application/vnd.databricks.v1+output": {
       "addedWidgets": {},
       "aggData": [],
       "aggError": "",
       "aggOverflow": false,
       "aggSchema": [],
       "aggSeriesLimitReached": false,
       "aggType": "",
       "arguments": {},
       "columnCustomDisplayInfos": {},
       "data": [
        [
         [
          12474,
          "new",
          1.6784512E9,
          "07/25/1939",
          "M",
          "M",
          "Matthew",
          "Phillips",
          [
           "02648 Wilkins Cliffs Suite 998",
           "San Fernando",
           "CA",
           91340
          ]
         ]
        ],
        [
         [
          12140,
          "new",
          1.67845158E9,
          "02/02/1999",
          "M",
          "M",
          "Robert",
          "Clark",
          [
           "68994 Steven Vista",
           "Pearblossom",
           "CA",
           93553
          ]
         ]
        ],
        [
         [
          12140,
          "update",
          1.67845158E9,
          "02/02/1999",
          "M",
          "M",
          "Robert",
          "Castillo",
          [
           "68994 Steven Vista",
           "Pearblossom",
           "CA",
           93553
          ]
         ]
        ],
        [
         [
          13559,
          "new",
          1.67845158E9,
          "03/06/1980",
          "F",
          "F",
          "Victoria",
          "Smith",
          [
           "88788 Dawson Lodge",
           "Los Angeles",
           "CA",
           90065
          ]
         ]
        ],
        [
         [
          13559,
          "update",
          1.67845171E9,
          "03/06/1980",
          "F",
          "F",
          "Victoria",
          "Smith",
          [
           "634 Acevedo Mountain",
           "Santa Monica",
           "CA",
           90405
          ]
         ]
        ],
        [
         [
          11745,
          "new",
          1.67845171E9,
          "06/29/1955",
          "F",
          "F",
          "Shannon",
          "Reyes",
          [
           "3105 Bowers Expressway",
           "Long Beach",
           "CA",
           90808
          ]
         ]
        ],
        [
         [
          12227,
          "new",
          1.67845197E9,
          "12/11/1949",
          "F",
          "F",
          "Courtney",
          "Sheppard",
          [
           "47754 Angela Plaza Apt. 135",
           "Los Angeles",
           "CA",
           90010
          ]
         ]
        ],
        [
         [
          14633,
          "new",
          1.67853888E9,
          "09/04/1997",
          "F",
          "F",
          "Hannah",
          "Fuller",
          [
           "81346 Obrien Streets",
           "Gardena",
           "CA",
           90249
          ]
         ]
        ],
        [
         [
          14508,
          "new",
          1.67853901E9,
          "01/28/1936",
          "M",
          "M",
          "Justin",
          "Eaton",
          [
           "04952 Lori Plain",
           "Sierra Madre",
           "CA",
           91024
          ]
         ]
        ],
        [
         [
          13937,
          "new",
          1.67853901E9,
          "04/26/1982",
          "M",
          "M",
          "Matthew",
          "Johnson",
          [
           "9231 Edward Throughway Suite 072",
           "Toluca Lake",
           "CA",
           91610
          ]
         ]
        ],
        [
         [
          14232,
          "new",
          1.67853914E9,
          "01/04/1979",
          "M",
          "M",
          "Edward",
          "Simpson",
          [
           "92012 Bradley Shoals",
           "Long Beach",
           "CA",
           90815
          ]
         ]
        ],
        [
         [
          14232,
          "update",
          1.67853914E9,
          "01/04/1979",
          "M",
          "M",
          "Edward",
          "Smith",
          [
           "41444 Noble Cape Suite 390",
           "North Hollywood",
           "CA",
           91606
          ]
         ]
        ],
        [
         [
          15149,
          "new",
          1.67853914E9,
          "03/30/1972",
          "M",
          "M",
          "Cameron",
          "Vasquez",
          [
           "95932 Gary Ridges",
           "Los Angeles",
           "CA",
           90018
          ]
         ]
        ]
       ],
       "datasetInfos": [],
       "dbfsResultPath": null,
       "isJsonSchema": true,
       "metadata": {},
       "overflow": false,
       "plotOptions": {
        "customPlotOptions": {},
        "displayType": "table",
        "pivotAggregation": null,
        "pivotColumns": null,
        "xColumns": null,
        "yColumns": null
       },
       "removedWidgets": [],
       "schema": [
        {
         "metadata": "{}",
         "name": "v",
         "type": "{\"type\":\"struct\",\"fields\":[{\"name\":\"user_id\",\"type\":\"long\",\"nullable\":true,\"metadata\":{}},{\"name\":\"update_type\",\"type\":\"string\",\"nullable\":true,\"metadata\":{}},{\"name\":\"timestamp\",\"type\":\"float\",\"nullable\":true,\"metadata\":{}},{\"name\":\"dob\",\"type\":\"string\",\"nullable\":true,\"metadata\":{}},{\"name\":\"sex\",\"type\":\"string\",\"nullable\":true,\"metadata\":{}},{\"name\":\"gender\",\"type\":\"string\",\"nullable\":true,\"metadata\":{}},{\"name\":\"first_name\",\"type\":\"string\",\"nullable\":true,\"metadata\":{}},{\"name\":\"last_name\",\"type\":\"string\",\"nullable\":true,\"metadata\":{}},{\"name\":\"address\",\"type\":{\"type\":\"struct\",\"fields\":[{\"name\":\"street_address\",\"type\":\"string\",\"nullable\":true,\"metadata\":{}},{\"name\":\"city\",\"type\":\"string\",\"nullable\":true,\"metadata\":{}},{\"name\":\"state\",\"type\":\"string\",\"nullable\":true,\"metadata\":{}},{\"name\":\"zip\",\"type\":\"integer\",\"nullable\":true,\"metadata\":{}}]},\"nullable\":true,\"metadata\":{}}]}"
        }
       ],
       "type": "table"
      }
     },
     "output_type": "display_data"
    }
   ],
   "source": [
    "import pyspark.sql.functions as F\n",
    "df_jsoned = df.select(F.from_json(\"value\",schema).alias(\"v\"))\n",
    "display(df_jsoned)"
   ]
  },
  {
   "cell_type": "code",
   "execution_count": 0,
   "metadata": {
    "application/vnd.databricks.v1+cell": {
     "cellMetadata": {
      "byteLimit": 2048000,
      "rowLimit": 10000
     },
     "inputWidgets": {},
     "nuid": "48ace8a0-4cf1-43d6-ae9a-52373562aeb4",
     "showTitle": false,
     "title": ""
    }
   },
   "outputs": [
    {
     "output_type": "stream",
     "name": "stdout",
     "output_type": "stream",
     "text": [
      "root\n |-- user_id: long (nullable = true)\n |-- update_type: string (nullable = true)\n |-- timestamp: float (nullable = true)\n |-- dob: string (nullable = true)\n |-- sex: string (nullable = true)\n |-- gender: string (nullable = true)\n |-- first_name: string (nullable = true)\n |-- last_name: string (nullable = true)\n |-- address: struct (nullable = true)\n |    |-- street_address: string (nullable = true)\n |    |-- city: string (nullable = true)\n |    |-- state: string (nullable = true)\n |    |-- zip: integer (nullable = true)\n\n"
     ]
    }
   ],
   "source": [
    "df_exploded = df_jsoned.select(\"v.*\")\n",
    "df_exploded.printSchema()"
   ]
  },
  {
   "cell_type": "code",
   "execution_count": 0,
   "metadata": {
    "application/vnd.databricks.v1+cell": {
     "cellMetadata": {
      "byteLimit": 2048000,
      "rowLimit": 10000
     },
     "inputWidgets": {},
     "nuid": "32898ed3-544e-467d-a081-b4de7d1164bc",
     "showTitle": false,
     "title": ""
    }
   },
   "outputs": [
    {
     "output_type": "display_data",
     "data": {
      "text/html": [
       "<style scoped>\n",
       "  .table-result-container {\n",
       "    max-height: 300px;\n",
       "    overflow: auto;\n",
       "  }\n",
       "  table, th, td {\n",
       "    border: 1px solid black;\n",
       "    border-collapse: collapse;\n",
       "  }\n",
       "  th, td {\n",
       "    padding: 5px;\n",
       "  }\n",
       "  th {\n",
       "    text-align: left;\n",
       "  }\n",
       "</style><div class='table-result-container'><table class='table-result'><thead style='background-color: white'><tr><th>user_id</th><th>update_type</th><th>timestamp</th><th>dob</th><th>sex</th><th>gender</th><th>first_name</th><th>last_name</th><th>address</th></tr></thead><tbody><tr><td>12474</td><td>new</td><td>1.6784512E9</td><td>07/25/1939</td><td>M</td><td>M</td><td>Matthew</td><td>Phillips</td><td>List(02648 Wilkins Cliffs Suite 998, San Fernando, CA, 91340)</td></tr><tr><td>12140</td><td>new</td><td>1.67845158E9</td><td>02/02/1999</td><td>M</td><td>M</td><td>Robert</td><td>Clark</td><td>List(68994 Steven Vista, Pearblossom, CA, 93553)</td></tr><tr><td>12140</td><td>update</td><td>1.67845158E9</td><td>02/02/1999</td><td>M</td><td>M</td><td>Robert</td><td>Castillo</td><td>List(68994 Steven Vista, Pearblossom, CA, 93553)</td></tr><tr><td>13559</td><td>new</td><td>1.67845158E9</td><td>03/06/1980</td><td>F</td><td>F</td><td>Victoria</td><td>Smith</td><td>List(88788 Dawson Lodge, Los Angeles, CA, 90065)</td></tr><tr><td>13559</td><td>update</td><td>1.67845171E9</td><td>03/06/1980</td><td>F</td><td>F</td><td>Victoria</td><td>Smith</td><td>List(634 Acevedo Mountain, Santa Monica, CA, 90405)</td></tr><tr><td>11745</td><td>new</td><td>1.67845171E9</td><td>06/29/1955</td><td>F</td><td>F</td><td>Shannon</td><td>Reyes</td><td>List(3105 Bowers Expressway, Long Beach, CA, 90808)</td></tr><tr><td>12227</td><td>new</td><td>1.67845197E9</td><td>12/11/1949</td><td>F</td><td>F</td><td>Courtney</td><td>Sheppard</td><td>List(47754 Angela Plaza Apt. 135, Los Angeles, CA, 90010)</td></tr><tr><td>14633</td><td>new</td><td>1.67853888E9</td><td>09/04/1997</td><td>F</td><td>F</td><td>Hannah</td><td>Fuller</td><td>List(81346 Obrien Streets, Gardena, CA, 90249)</td></tr><tr><td>14508</td><td>new</td><td>1.67853901E9</td><td>01/28/1936</td><td>M</td><td>M</td><td>Justin</td><td>Eaton</td><td>List(04952 Lori Plain, Sierra Madre, CA, 91024)</td></tr><tr><td>13937</td><td>new</td><td>1.67853901E9</td><td>04/26/1982</td><td>M</td><td>M</td><td>Matthew</td><td>Johnson</td><td>List(9231 Edward Throughway Suite 072, Toluca Lake, CA, 91610)</td></tr><tr><td>14232</td><td>new</td><td>1.67853914E9</td><td>01/04/1979</td><td>M</td><td>M</td><td>Edward</td><td>Simpson</td><td>List(92012 Bradley Shoals, Long Beach, CA, 90815)</td></tr><tr><td>14232</td><td>update</td><td>1.67853914E9</td><td>01/04/1979</td><td>M</td><td>M</td><td>Edward</td><td>Smith</td><td>List(41444 Noble Cape Suite 390, North Hollywood, CA, 91606)</td></tr><tr><td>15149</td><td>new</td><td>1.67853914E9</td><td>03/30/1972</td><td>M</td><td>M</td><td>Cameron</td><td>Vasquez</td><td>List(95932 Gary Ridges, Los Angeles, CA, 90018)</td></tr></tbody></table></div>"
      ]
     },
     "metadata": {
      "application/vnd.databricks.v1+output": {
       "addedWidgets": {},
       "aggData": [],
       "aggError": "",
       "aggOverflow": false,
       "aggSchema": [],
       "aggSeriesLimitReached": false,
       "aggType": "",
       "arguments": {},
       "columnCustomDisplayInfos": {},
       "data": [
        [
         12474,
         "new",
         1.6784512E9,
         "07/25/1939",
         "M",
         "M",
         "Matthew",
         "Phillips",
         [
          "02648 Wilkins Cliffs Suite 998",
          "San Fernando",
          "CA",
          91340
         ]
        ],
        [
         12140,
         "new",
         1.67845158E9,
         "02/02/1999",
         "M",
         "M",
         "Robert",
         "Clark",
         [
          "68994 Steven Vista",
          "Pearblossom",
          "CA",
          93553
         ]
        ],
        [
         12140,
         "update",
         1.67845158E9,
         "02/02/1999",
         "M",
         "M",
         "Robert",
         "Castillo",
         [
          "68994 Steven Vista",
          "Pearblossom",
          "CA",
          93553
         ]
        ],
        [
         13559,
         "new",
         1.67845158E9,
         "03/06/1980",
         "F",
         "F",
         "Victoria",
         "Smith",
         [
          "88788 Dawson Lodge",
          "Los Angeles",
          "CA",
          90065
         ]
        ],
        [
         13559,
         "update",
         1.67845171E9,
         "03/06/1980",
         "F",
         "F",
         "Victoria",
         "Smith",
         [
          "634 Acevedo Mountain",
          "Santa Monica",
          "CA",
          90405
         ]
        ],
        [
         11745,
         "new",
         1.67845171E9,
         "06/29/1955",
         "F",
         "F",
         "Shannon",
         "Reyes",
         [
          "3105 Bowers Expressway",
          "Long Beach",
          "CA",
          90808
         ]
        ],
        [
         12227,
         "new",
         1.67845197E9,
         "12/11/1949",
         "F",
         "F",
         "Courtney",
         "Sheppard",
         [
          "47754 Angela Plaza Apt. 135",
          "Los Angeles",
          "CA",
          90010
         ]
        ],
        [
         14633,
         "new",
         1.67853888E9,
         "09/04/1997",
         "F",
         "F",
         "Hannah",
         "Fuller",
         [
          "81346 Obrien Streets",
          "Gardena",
          "CA",
          90249
         ]
        ],
        [
         14508,
         "new",
         1.67853901E9,
         "01/28/1936",
         "M",
         "M",
         "Justin",
         "Eaton",
         [
          "04952 Lori Plain",
          "Sierra Madre",
          "CA",
          91024
         ]
        ],
        [
         13937,
         "new",
         1.67853901E9,
         "04/26/1982",
         "M",
         "M",
         "Matthew",
         "Johnson",
         [
          "9231 Edward Throughway Suite 072",
          "Toluca Lake",
          "CA",
          91610
         ]
        ],
        [
         14232,
         "new",
         1.67853914E9,
         "01/04/1979",
         "M",
         "M",
         "Edward",
         "Simpson",
         [
          "92012 Bradley Shoals",
          "Long Beach",
          "CA",
          90815
         ]
        ],
        [
         14232,
         "update",
         1.67853914E9,
         "01/04/1979",
         "M",
         "M",
         "Edward",
         "Smith",
         [
          "41444 Noble Cape Suite 390",
          "North Hollywood",
          "CA",
          91606
         ]
        ],
        [
         15149,
         "new",
         1.67853914E9,
         "03/30/1972",
         "M",
         "M",
         "Cameron",
         "Vasquez",
         [
          "95932 Gary Ridges",
          "Los Angeles",
          "CA",
          90018
         ]
        ]
       ],
       "datasetInfos": [],
       "dbfsResultPath": null,
       "isJsonSchema": true,
       "metadata": {},
       "overflow": false,
       "plotOptions": {
        "customPlotOptions": {},
        "displayType": "table",
        "pivotAggregation": null,
        "pivotColumns": null,
        "xColumns": null,
        "yColumns": null
       },
       "removedWidgets": [],
       "schema": [
        {
         "metadata": "{}",
         "name": "user_id",
         "type": "\"long\""
        },
        {
         "metadata": "{}",
         "name": "update_type",
         "type": "\"string\""
        },
        {
         "metadata": "{}",
         "name": "timestamp",
         "type": "\"float\""
        },
        {
         "metadata": "{}",
         "name": "dob",
         "type": "\"string\""
        },
        {
         "metadata": "{}",
         "name": "sex",
         "type": "\"string\""
        },
        {
         "metadata": "{}",
         "name": "gender",
         "type": "\"string\""
        },
        {
         "metadata": "{}",
         "name": "first_name",
         "type": "\"string\""
        },
        {
         "metadata": "{}",
         "name": "last_name",
         "type": "\"string\""
        },
        {
         "metadata": "{}",
         "name": "address",
         "type": "{\"type\":\"struct\",\"fields\":[{\"name\":\"street_address\",\"type\":\"string\",\"nullable\":true,\"metadata\":{}},{\"name\":\"city\",\"type\":\"string\",\"nullable\":true,\"metadata\":{}},{\"name\":\"state\",\"type\":\"string\",\"nullable\":true,\"metadata\":{}},{\"name\":\"zip\",\"type\":\"integer\",\"nullable\":true,\"metadata\":{}}]}"
        }
       ],
       "type": "table"
      }
     },
     "output_type": "display_data"
    }
   ],
   "source": [
    "display(df_exploded)"
   ]
  },
  {
   "cell_type": "code",
   "execution_count": 0,
   "metadata": {
    "application/vnd.databricks.v1+cell": {
     "cellMetadata": {
      "byteLimit": 2048000,
      "rowLimit": 10000
     },
     "inputWidgets": {},
     "nuid": "03ba4bf3-6d69-4f54-8e9f-7c35e8e2bdfe",
     "showTitle": false,
     "title": ""
    }
   },
   "outputs": [
    {
     "output_type": "stream",
     "name": "stdout",
     "output_type": "stream",
     "text": [
      "Out[35]: list"
     ]
    }
   ],
   "source": [
    "type(df_exploded.columns)"
   ]
  },
  {
   "cell_type": "code",
   "execution_count": 0,
   "metadata": {
    "application/vnd.databricks.v1+cell": {
     "cellMetadata": {
      "byteLimit": 2048000,
      "rowLimit": 10000
     },
     "inputWidgets": {},
     "nuid": "2d79b79d-3bf1-4710-883d-44bde58f04d4",
     "showTitle": false,
     "title": ""
    }
   },
   "outputs": [],
   "source": [
    "df_exploded = (df_exploded.select('user_id',\n",
    "                                'update_type',\n",
    "                                'timestamp',\n",
    "                                'dob',\n",
    "                                'sex',\n",
    "                                'gender',\n",
    "                                'first_name',\n",
    "                                'last_name','address.*')\n",
    "               )"
   ]
  },
  {
   "cell_type": "code",
   "execution_count": 0,
   "metadata": {
    "application/vnd.databricks.v1+cell": {
     "cellMetadata": {
      "byteLimit": 2048000,
      "rowLimit": 10000
     },
     "inputWidgets": {},
     "nuid": "40e92f47-98b2-4020-99dd-0b5463230f34",
     "showTitle": false,
     "title": ""
    }
   },
   "outputs": [
    {
     "output_type": "stream",
     "name": "stdout",
     "output_type": "stream",
     "text": [
      "Out[42]: ['user_id',\n 'update_type',\n 'timestamp',\n 'dob',\n 'sex',\n 'gender',\n 'first_name',\n 'last_name',\n 'street_address',\n 'city',\n 'state',\n 'zip']"
     ]
    }
   ],
   "source": [
    "df_exploded.columns"
   ]
  },
  {
   "cell_type": "code",
   "execution_count": 0,
   "metadata": {
    "application/vnd.databricks.v1+cell": {
     "cellMetadata": {
      "byteLimit": 2048000,
      "rowLimit": 10000
     },
     "inputWidgets": {},
     "nuid": "c5ec9a3c-c81a-4cdf-b907-7508b01550da",
     "showTitle": false,
     "title": ""
    }
   },
   "outputs": [
    {
     "output_type": "stream",
     "name": "stdout",
     "output_type": "stream",
     "text": [
      "1 2 3\n"
     ]
    }
   ],
   "source": [
    "print(*l)"
   ]
  },
  {
   "cell_type": "code",
   "execution_count": 0,
   "metadata": {
    "application/vnd.databricks.v1+cell": {
     "cellMetadata": {},
     "inputWidgets": {},
     "nuid": "7a8cd017-9777-4932-8879-37512631712c",
     "showTitle": false,
     "title": ""
    }
   },
   "outputs": [],
   "source": []
  }
 ],
 "metadata": {
  "application/vnd.databricks.v1+notebook": {
   "dashboards": [],
   "language": "python",
   "notebookMetadata": {
    "pythonIndentUnit": 4
   },
   "notebookName": "data exploration",
   "widgets": {}
  }
 },
 "nbformat": 4,
 "nbformat_minor": 0
}
