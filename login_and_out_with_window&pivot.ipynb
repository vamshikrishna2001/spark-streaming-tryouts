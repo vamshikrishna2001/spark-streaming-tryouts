{
 "cells": [
  {
   "cell_type": "markdown",
   "metadata": {
    "application/vnd.databricks.v1+cell": {
     "cellMetadata": {
      "byteLimit": 2048000,
      "rowLimit": 10000
     },
     "inputWidgets": {},
     "nuid": "2ef760b8-df3e-452c-acfd-01397e3798bb",
     "showTitle": false,
     "title": ""
    }
   },
   "source": [
    "WINDOW FUNCTION "
   ]
  },
  {
   "cell_type": "code",
   "execution_count": 0,
   "metadata": {
    "application/vnd.databricks.v1+cell": {
     "cellMetadata": {
      "byteLimit": 2048000,
      "rowLimit": 10000
     },
     "inputWidgets": {},
     "nuid": "b36be69e-b3a8-4e19-8c1f-dcfa46f4a51e",
     "showTitle": false,
     "title": ""
    }
   },
   "outputs": [],
   "source": [
    "from pyspark.sql import *\n",
    "from pyspark import SparkConf\n",
    "\n",
    "conf = SparkConf()\n",
    "conf.set(\"spark.app.name\",\"targaryen\")\n",
    "conf.set(\"spark.master\",\"local[*]\")\n",
    "    \n",
    "spark = SparkSession.builder.config(conf=conf).getOrCreate()  \n",
    "    \n",
    "# schema = \"user_id long , device_id long , mac_address string , registration_timestamp long\"\n",
    "df = (spark.read\n",
    "        .format(\"csv\") \n",
    "        .option(\"header\",\"true\") \n",
    "        .option(\"inferschema\",\"true\") \n",
    "        .load(\"/FileStore/tables/5_gym_logins_*\")\n",
    ")\n",
    "\n",
    "\n",
    "df1 = df.select(df.mac_address.cast('string'),df.gym.cast('int'),df.login.cast('timestamp'),df.logout.cast('timestamp'))\n",
    "\n",
    "\n",
    "from pyspark.sql.functions import window,sum,count\n",
    "df2 = df1.groupBy(window(df1.login,\"30 minutes\")).agg(count(\"*\"),sum(df1.gym))\n",
    "display(df2)\n",
    "\n"
   ]
  },
  {
   "cell_type": "markdown",
   "metadata": {
    "application/vnd.databricks.v1+cell": {
     "cellMetadata": {},
     "inputWidgets": {},
     "nuid": "61930cc3-6989-481c-8ad2-a470c564b552",
     "showTitle": false,
     "title": ""
    }
   },
   "source": [
    "login and logout merging using window method and pivot method"
   ]
  },
  {
   "cell_type": "markdown",
   "metadata": {
    "application/vnd.databricks.v1+cell": {
     "cellMetadata": {},
     "inputWidgets": {},
     "nuid": "f2c738f7-de43-4f82-9e67-eef91bea8c48",
     "showTitle": false,
     "title": ""
    }
   },
   "source": [
    "with pivot method"
   ]
  },
  {
   "cell_type": "code",
   "execution_count": 0,
   "metadata": {
    "application/vnd.databricks.v1+cell": {
     "cellMetadata": {
      "byteLimit": 2048000,
      "rowLimit": 10000
     },
     "inputWidgets": {},
     "nuid": "01d76cdb-7d42-4aea-8416-3d3f828913fd",
     "showTitle": false,
     "title": ""
    }
   },
   "outputs": [
    {
     "output_type": "stream",
     "name": "stdout",
     "output_type": "stream",
     "text": [
      "+-------+-------------------+-------------------+\n|user_id|logintime          |logouttime         |\n+-------+-------------------+-------------------+\n|1      |2024-01-25T10:00:00|2024-01-25T12:00:00|\n|2      |2024-01-25T11:00:00|2024-01-25T14:00:00|\n+-------+-------------------+-------------------+\n\n"
     ]
    }
   ],
   "source": [
    "from pyspark.sql import SparkSession\n",
    "from pyspark.sql.functions import col\n",
    "\n",
    "spark = SparkSession.builder.appName(\"UserLoginLogout\").getOrCreate()\n",
    "\n",
    "data = [\n",
    "    (1, 'login', '2024-01-25T10:00:00'),\n",
    "    (1, 'logout', '2024-01-25T12:00:00'),\n",
    "    (2, 'login', '2024-01-25T11:00:00'),\n",
    "    (2, 'logout', '2024-01-25T14:00:00'),\n",
    "]\n",
    "\n",
    "schema = [\"user_id\", \"type\", \"time\"]\n",
    "\n",
    "df = spark.createDataFrame(data, schema=schema)\n",
    "\n",
    "pivoted_df = df.groupBy(\"user_id\").pivot(\"type\").agg({\"time\": \"max\"})\n",
    "\n",
    "result_df = pivoted_df.select(\n",
    "    col(\"user_id\"),\n",
    "    col(\"login\").alias(\"logintime\"),\n",
    "    col(\"logout\").alias(\"logouttime\")\n",
    ")\n",
    "\n",
    "result_df.show(truncate=False)"
   ]
  },
  {
   "cell_type": "code",
   "execution_count": 0,
   "metadata": {
    "application/vnd.databricks.v1+cell": {
     "cellMetadata": {
      "byteLimit": 2048000,
      "rowLimit": 10000
     },
     "inputWidgets": {},
     "nuid": "c87d063d-2981-481c-8a8f-48f1560d03c5",
     "showTitle": false,
     "title": ""
    }
   },
   "outputs": [
    {
     "output_type": "display_data",
     "data": {
      "text/html": [
       "<style scoped>\n",
       "  .table-result-container {\n",
       "    max-height: 300px;\n",
       "    overflow: auto;\n",
       "  }\n",
       "  table, th, td {\n",
       "    border: 1px solid black;\n",
       "    border-collapse: collapse;\n",
       "  }\n",
       "  th, td {\n",
       "    padding: 5px;\n",
       "  }\n",
       "  th {\n",
       "    text-align: left;\n",
       "  }\n",
       "</style><div class='table-result-container'><table class='table-result'><thead style='background-color: white'><tr><th>user_id</th><th>type</th><th>time</th></tr></thead><tbody><tr><td>1</td><td>login</td><td>2024-01-25T10:00:00</td></tr><tr><td>1</td><td>logout</td><td>2024-01-25T12:00:00</td></tr><tr><td>2</td><td>login</td><td>2024-01-25T11:00:00</td></tr><tr><td>2</td><td>logout</td><td>2024-01-25T14:00:00</td></tr></tbody></table></div>"
      ]
     },
     "metadata": {
      "application/vnd.databricks.v1+output": {
       "addedWidgets": {},
       "aggData": [],
       "aggError": "",
       "aggOverflow": false,
       "aggSchema": [],
       "aggSeriesLimitReached": false,
       "aggType": "",
       "arguments": {},
       "columnCustomDisplayInfos": {},
       "data": [
        [
         1,
         "login",
         "2024-01-25T10:00:00"
        ],
        [
         1,
         "logout",
         "2024-01-25T12:00:00"
        ],
        [
         2,
         "login",
         "2024-01-25T11:00:00"
        ],
        [
         2,
         "logout",
         "2024-01-25T14:00:00"
        ]
       ],
       "datasetInfos": [],
       "dbfsResultPath": null,
       "isJsonSchema": true,
       "metadata": {},
       "overflow": false,
       "plotOptions": {
        "customPlotOptions": {},
        "displayType": "table",
        "pivotAggregation": null,
        "pivotColumns": null,
        "xColumns": null,
        "yColumns": null
       },
       "removedWidgets": [],
       "schema": [
        {
         "metadata": "{}",
         "name": "user_id",
         "type": "\"long\""
        },
        {
         "metadata": "{}",
         "name": "type",
         "type": "\"string\""
        },
        {
         "metadata": "{}",
         "name": "time",
         "type": "\"string\""
        }
       ],
       "type": "table"
      }
     },
     "output_type": "display_data"
    },
    {
     "output_type": "display_data",
     "data": {
      "text/html": [
       "<style scoped>\n",
       "  .table-result-container {\n",
       "    max-height: 300px;\n",
       "    overflow: auto;\n",
       "  }\n",
       "  table, th, td {\n",
       "    border: 1px solid black;\n",
       "    border-collapse: collapse;\n",
       "  }\n",
       "  th, td {\n",
       "    padding: 5px;\n",
       "  }\n",
       "  th {\n",
       "    text-align: left;\n",
       "  }\n",
       "</style><div class='table-result-container'><table class='table-result'><thead style='background-color: white'><tr><th>user_id</th><th>login</th><th>logout</th></tr></thead><tbody><tr><td>1</td><td>2024-01-25T10:00:00</td><td>2024-01-25T12:00:00</td></tr><tr><td>2</td><td>2024-01-25T11:00:00</td><td>2024-01-25T14:00:00</td></tr></tbody></table></div>"
      ]
     },
     "metadata": {
      "application/vnd.databricks.v1+output": {
       "addedWidgets": {},
       "aggData": [],
       "aggError": "",
       "aggOverflow": false,
       "aggSchema": [],
       "aggSeriesLimitReached": false,
       "aggType": "",
       "arguments": {},
       "columnCustomDisplayInfos": {},
       "data": [
        [
         1,
         "2024-01-25T10:00:00",
         "2024-01-25T12:00:00"
        ],
        [
         2,
         "2024-01-25T11:00:00",
         "2024-01-25T14:00:00"
        ]
       ],
       "datasetInfos": [],
       "dbfsResultPath": null,
       "isJsonSchema": true,
       "metadata": {},
       "overflow": false,
       "plotOptions": {
        "customPlotOptions": {},
        "displayType": "table",
        "pivotAggregation": null,
        "pivotColumns": null,
        "xColumns": null,
        "yColumns": null
       },
       "removedWidgets": [],
       "schema": [
        {
         "metadata": "{}",
         "name": "user_id",
         "type": "\"long\""
        },
        {
         "metadata": "{}",
         "name": "login",
         "type": "\"string\""
        },
        {
         "metadata": "{}",
         "name": "logout",
         "type": "\"string\""
        }
       ],
       "type": "table"
      }
     },
     "output_type": "display_data"
    }
   ],
   "source": [
    "from pyspark.sql.functions import max,min\n",
    "display(df)\n",
    "temp = df.groupBy(\"user_id\").pivot('type').agg(min('time'))\n",
    "display(temp)"
   ]
  },
  {
   "cell_type": "code",
   "execution_count": 0,
   "metadata": {
    "application/vnd.databricks.v1+cell": {
     "cellMetadata": {
      "byteLimit": 2048000,
      "rowLimit": 10000
     },
     "inputWidgets": {},
     "nuid": "c1568c71-e766-435d-8bb1-1a8be8bdf88c",
     "showTitle": false,
     "title": ""
    }
   },
   "outputs": [],
   "source": [
    "from pyspark.sql.functions import when\n",
    "df1 = (df.select(\"*\").\n",
    "    # withColumn('logouttime',expr(\"case when type == 'logout' then time else 0 end\")).\n",
    "    withColumn('logouttime',when(df.type == 'logout',df.time).otherwise(None)).\n",
    "    withColumn('logintime',when(df.type == 'login',df.time).otherwise(None))\n",
    ")"
   ]
  },
  {
   "cell_type": "markdown",
   "metadata": {
    "application/vnd.databricks.v1+cell": {
     "cellMetadata": {},
     "inputWidgets": {},
     "nuid": "7822b79b-2e92-4151-a503-531b0f91cf41",
     "showTitle": false,
     "title": ""
    }
   },
   "source": [
    "with window method"
   ]
  },
  {
   "cell_type": "code",
   "execution_count": 0,
   "metadata": {
    "application/vnd.databricks.v1+cell": {
     "cellMetadata": {
      "byteLimit": 2048000,
      "rowLimit": 10000
     },
     "inputWidgets": {},
     "nuid": "269812a6-c9be-473b-a664-60003d5a9714",
     "showTitle": false,
     "title": ""
    }
   },
   "outputs": [
    {
     "output_type": "stream",
     "name": "stdout",
     "output_type": "stream",
     "text": [
      "root\n |-- user_id: long (nullable = true)\n |-- type: string (nullable = true)\n |-- time: string (nullable = true)\n |-- logouttime: string (nullable = true)\n |-- logintime: string (nullable = true)\n\nNone\n"
     ]
    },
    {
     "output_type": "display_data",
     "data": {
      "text/html": [
       "<style scoped>\n",
       "  .table-result-container {\n",
       "    max-height: 300px;\n",
       "    overflow: auto;\n",
       "  }\n",
       "  table, th, td {\n",
       "    border: 1px solid black;\n",
       "    border-collapse: collapse;\n",
       "  }\n",
       "  th, td {\n",
       "    padding: 5px;\n",
       "  }\n",
       "  th {\n",
       "    text-align: left;\n",
       "  }\n",
       "</style><div class='table-result-container'><table class='table-result'><thead style='background-color: white'><tr><th>user_id</th><th>lit</th><th>lot</th></tr></thead><tbody><tr><td>1</td><td>2024-01-25T10:00:00</td><td>2024-01-25T12:00:00</td></tr><tr><td>2</td><td>2024-01-25T11:00:00</td><td>2024-01-25T14:00:00</td></tr></tbody></table></div>"
      ]
     },
     "metadata": {
      "application/vnd.databricks.v1+output": {
       "addedWidgets": {},
       "aggData": [],
       "aggError": "",
       "aggOverflow": false,
       "aggSchema": [],
       "aggSeriesLimitReached": false,
       "aggType": "",
       "arguments": {},
       "columnCustomDisplayInfos": {},
       "data": [
        [
         1,
         "2024-01-25T10:00:00",
         "2024-01-25T12:00:00"
        ],
        [
         2,
         "2024-01-25T11:00:00",
         "2024-01-25T14:00:00"
        ]
       ],
       "datasetInfos": [],
       "dbfsResultPath": null,
       "isJsonSchema": true,
       "metadata": {},
       "overflow": false,
       "plotOptions": {
        "customPlotOptions": {},
        "displayType": "table",
        "pivotAggregation": null,
        "pivotColumns": null,
        "xColumns": null,
        "yColumns": null
       },
       "removedWidgets": [],
       "schema": [
        {
         "metadata": "{}",
         "name": "user_id",
         "type": "\"long\""
        },
        {
         "metadata": "{}",
         "name": "lit",
         "type": "\"string\""
        },
        {
         "metadata": "{}",
         "name": "lot",
         "type": "\"string\""
        }
       ],
       "type": "table"
      }
     },
     "output_type": "display_data"
    }
   ],
   "source": [
    "from pyspark.sql.functions import expr,when,col,max,count,first,last\n",
    "from pyspark.sql.window import Window as win\n",
    "print(df1.printSchema())\n",
    "\n",
    "wn = win.partitionBy('user_id')\n",
    "\n",
    "df2 = (df1.withColumn('lit',first('logintime').over(wn.orderBy(col('time').asc())))\n",
    "    .withColumn('lot',first('logouttime').over(wn.orderBy(col('time').desc())))\n",
    "    .select('user_id','lit','lot')\n",
    "    .dropDuplicates()\n",
    "    )\n",
    "\n",
    "\n",
    "# df2=df1.groupBy(\"user_id\").agg(sum(col('logouttime'),col('logintime')))\n",
    "display(df2)"
   ]
  },
  {
   "cell_type": "code",
   "execution_count": 0,
   "metadata": {
    "application/vnd.databricks.v1+cell": {
     "cellMetadata": {},
     "inputWidgets": {},
     "nuid": "a8333542-4bab-4548-a311-4f40c3a749cf",
     "showTitle": false,
     "title": ""
    }
   },
   "outputs": [],
   "source": []
  }
 ],
 "metadata": {
  "application/vnd.databricks.v1+notebook": {
   "dashboards": [],
   "language": "python",
   "notebookMetadata": {
    "pythonIndentUnit": 4
   },
   "notebookName": "login_and_out_with_window&pivot",
   "widgets": {}
  }
 },
 "nbformat": 4,
 "nbformat_minor": 0
}
