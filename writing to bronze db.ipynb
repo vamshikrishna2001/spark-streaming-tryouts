{
 "cells": [
  {
   "cell_type": "code",
   "execution_count": 0,
   "metadata": {
    "application/vnd.databricks.v1+cell": {
     "cellMetadata": {
      "byteLimit": 2048000,
      "rowLimit": 10000
     },
     "inputWidgets": {},
     "nuid": "e92f3b64-f60e-46af-8784-d37df4aa0b9b",
     "showTitle": false,
     "title": ""
    }
   },
   "outputs": [],
   "source": [
    "class Bronze():\n",
    "    def __init__(self):\n",
    "        self.base_data_dir = \"/FileStore/data_spark_streaming_scholarnest\"\n",
    "        self.BOOTSTRAP_SERVER = \"pkc-9q8rv.ap-south-2.aws.confluent.cloud:9092\"\n",
    "        self.JAAS_MODULE = \"org.apache.kafka.common.security.plain.PlainLoginModule\"\n",
    "        self.CLUSTER_API_KEY = \"GP7UYZSUZXLFHNRO\"\n",
    "        self.CLUSTER_API_SECRET = \"hS3z7pXZ2e+znqqh2Jf/RNsVShHYuYCFW3DKkG81FfB4Rwt/TL39ujBH9dporeGI\"\n",
    "\n",
    "    def getSchema(self):\n",
    "        return \"\"\"InvoiceNumber string, CreatedTime bigint, StoreID string, PosID string, CashierID string,\n",
    "                CustomerType string, CustomerCardNo string, TotalAmount double, NumberOfItems bigint, \n",
    "                PaymentMethod string, TaxableAmount double, CGST double, SGST double, CESS double, \n",
    "                DeliveryType string,\n",
    "                DeliveryAddress struct<AddressLine string, City string, ContactNumber string, PinCode string, \n",
    "                State string>,\n",
    "                InvoiceLineItems array<struct<ItemCode string, ItemDescription string, \n",
    "                    ItemPrice double, ItemQty bigint, TotalValue double>>\n",
    "            \"\"\"\n",
    "\n",
    "    def ingestFromKafka(self, startingTime = 1):\n",
    "        return ( spark.readStream\n",
    "                        .format(\"kafka\")            \n",
    "                        .option(\"kafka.bootstrap.servers\", self.BOOTSTRAP_SERVER)\n",
    "                        .option(\"kafka.security.protocol\", \"SASL_SSL\")\n",
    "                        .option(\"kafka.sasl.mechanism\", \"PLAIN\")\n",
    "                        .option(\"kafka.sasl.jaas.config\", \"kafkashaded.org.apache.kafka.common.security.plain.PlainLoginModule required username='{}' password='{}';\".format(self.CLUSTER_API_KEY, self.CLUSTER_API_SECRET))\n",
    "                        # .option(\"kafka.sasl.jaas.config\", f\"{self.JAAS_MODULE} required username='{self.CLUSTER_API_KEY}' password='{self.CLUSTER_API_SECRET}';\")\n",
    "                        .option(\"subscribe\", \"Danaerys\")\n",
    "                        .option(\"kafka.ssl.endpoint.identification.algorithm\", \"https\")\n",
    "                        # .option(\"maxOffsetsPerTrigger\", 10)\n",
    "                        .option(\"startingTimestamp\", startingTime)\n",
    "                        .load()\n",
    "                )\n",
    "       \n",
    "    \n",
    "    def getInvoices(self, kafka_df):\n",
    "        from pyspark.sql.functions import cast, from_json\n",
    "        return (kafka_df.select(kafka_df.key.cast(\"string\").alias(\"key\"),\n",
    "                            from_json(kafka_df.value.cast(\"string\"), self.getSchema()).alias(\"value\"),\n",
    "                            \"topic\", \"timestamp\")\n",
    "                )\n",
    "\n",
    "    def process(self, startingTime = 1):\n",
    "        print(f\"Starting Bronze Stream...\", end='')\n",
    "        rawDF = self.ingestFromKafka(startingTime)\n",
    "        invoicesDF = self.getInvoices(rawDF)\n",
    "        sQuery =  ( invoicesDF.writeStream\n",
    "                            .queryName(\"bronze-ingestion\")\n",
    "                            .option(\"checkpointLocation\", f\"{self.base_data_dir}/chekpoint/invoices_bz\")\n",
    "                            .outputMode(\"append\")\n",
    "                            .toTable(\"invoices_bz\")           \n",
    "                    ) \n",
    "        print(\"Done\")\n",
    "        return sQuery   "
   ]
  },
  {
   "cell_type": "code",
   "execution_count": 0,
   "metadata": {
    "application/vnd.databricks.v1+cell": {
     "cellMetadata": {
      "byteLimit": 2048000,
      "rowLimit": 10000
     },
     "inputWidgets": {},
     "nuid": "10447b8b-7441-4248-b8a5-e644da7fbf71",
     "showTitle": false,
     "title": ""
    }
   },
   "outputs": [
    {
     "output_type": "stream",
     "name": "stdout",
     "output_type": "stream",
     "text": [
      "Starting Bronze Stream...Done\nOut[14]: <pyspark.sql.streaming.query.StreamingQuery at 0x7fb92ab2eb50>"
     ]
    }
   ],
   "source": [
    "model = Bronze()\n",
    "kafka_df = model.ingestFromKafka()\n",
    "modified_df = model.getInvoices(kafka_df)\n",
    "model.process()"
   ]
  },
  {
   "cell_type": "code",
   "execution_count": 0,
   "metadata": {
    "application/vnd.databricks.v1+cell": {
     "cellMetadata": {
      "byteLimit": 2048000,
      "rowLimit": 10000
     },
     "inputWidgets": {},
     "nuid": "c3655360-545e-44b3-935a-69415cbac23d",
     "showTitle": false,
     "title": ""
    }
   },
   "outputs": [],
   "source": [
    "df = spark.sql(\"select * from invoices_bz\")"
   ]
  },
  {
   "cell_type": "code",
   "execution_count": 0,
   "metadata": {
    "application/vnd.databricks.v1+cell": {
     "cellMetadata": {
      "byteLimit": 2048000,
      "rowLimit": 10000
     },
     "inputWidgets": {},
     "nuid": "8508a05d-e6fd-49aa-89de-d392d11228aa",
     "showTitle": false,
     "title": ""
    }
   },
   "outputs": [
    {
     "output_type": "stream",
     "name": "stdout",
     "output_type": "stream",
     "text": [
      "1458644\n"
     ]
    }
   ],
   "source": [
    "print(df.count())"
   ]
  },
  {
   "cell_type": "code",
   "execution_count": 0,
   "metadata": {
    "application/vnd.databricks.v1+cell": {
     "cellMetadata": {},
     "inputWidgets": {},
     "nuid": "f6ad05dd-e0eb-4f6f-b985-674efd43e061",
     "showTitle": false,
     "title": ""
    }
   },
   "outputs": [],
   "source": []
  }
 ],
 "metadata": {
  "application/vnd.databricks.v1+notebook": {
   "dashboards": [],
   "language": "python",
   "notebookMetadata": {
    "pythonIndentUnit": 4
   },
   "notebookName": "writing to bronze db",
   "widgets": {}
  }
 },
 "nbformat": 4,
 "nbformat_minor": 0
}
